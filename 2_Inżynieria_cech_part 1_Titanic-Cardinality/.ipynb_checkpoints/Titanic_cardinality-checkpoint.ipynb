{
 "cells": [
  {
   "cell_type": "markdown",
   "id": "c126ea03-6374-4946-b97a-7cbb473b7950",
   "metadata": {},
   "source": [
    "<h1 align=\"center\">Titanic - cardinality</h1>\n",
    "<h2 align=\"center\">Dominik Sakłaski, 415120</h2>\n"
   ]
  },
  {
   "cell_type": "markdown",
   "id": "51422af3-434d-4d25-985a-4c50cb5965b3",
   "metadata": {},
   "source": [
    "#### Załadowanie bibliotek "
   ]
  },
  {
   "cell_type": "code",
   "execution_count": 1,
   "id": "21ed0a46-7582-4a2f-abdb-685b1391fdce",
   "metadata": {},
   "outputs": [],
   "source": [
    "import pandas as pd\n",
    "import numpy as np"
   ]
  },
  {
   "cell_type": "markdown",
   "id": "9f19f9cb-8cd7-48be-a150-163f8240d366",
   "metadata": {},
   "source": [
    "#### Wczytanie danych i zmiana wartości \"?\" na NaN"
   ]
  },
  {
   "cell_type": "code",
   "execution_count": 2,
   "id": "cc0c6bec-c027-4be6-a4a9-fc747b4a69e5",
   "metadata": {},
   "outputs": [
    {
     "name": "stdout",
     "output_type": "stream",
     "text": [
      "20 początkowych wierszy po zamianie '?' na NaN: \n",
      "\n",
      "    pclass  survived                                               name  \\\n",
      "1        1         1                      Allen, Miss. Elisabeth Walton   \n",
      "2        1         1                     Allison, Master. Hudson Trevor   \n",
      "3        1         0                       Allison, Miss. Helen Loraine   \n",
      "4        1         0               Allison, Mr. Hudson Joshua Creighton   \n",
      "5        1         0    Allison, Mrs. Hudson J C (Bessie Waldo Daniels)   \n",
      "6        1         1                                Anderson, Mr. Harry   \n",
      "7        1         1                  Andrews, Miss. Kornelia Theodosia   \n",
      "8        1         0                             Andrews, Mr. Thomas Jr   \n",
      "9        1         1      Appleton, Mrs. Edward Dale (Charlotte Lamson)   \n",
      "10       1         0                            Artagaveytia, Mr. Ramon   \n",
      "11       1         0                             Astor, Col. John Jacob   \n",
      "12       1         1  Astor, Mrs. John Jacob (Madeleine Talmadge Force)   \n",
      "13       1         1                      Aubart, Mme. Leontine Pauline   \n",
      "14       1         1                       Barber, Miss. Ellen 'Nellie'   \n",
      "15       1         1               Barkworth, Mr. Algernon Henry Wilson   \n",
      "16       1         0                                Baumann, Mr. John D   \n",
      "17       1         0                           Baxter, Mr. Quigg Edmond   \n",
      "18       1         1    Baxter, Mrs. James (Helene DeLaudeniere Chaput)   \n",
      "19       1         1                              Bazzani, Miss. Albina   \n",
      "20       1         0                               Beattie, Mr. Thomson   \n",
      "\n",
      "       sex     age  sibsp  parch    ticket      fare    cabin embarked boat  \\\n",
      "1   female      29      0      0     24160  211.3375       B5        S    2   \n",
      "2     male  0.9167      1      2    113781    151.55  C22 C26        S   11   \n",
      "3   female       2      1      2    113781    151.55  C22 C26        S  NaN   \n",
      "4     male      30      1      2    113781    151.55  C22 C26        S  NaN   \n",
      "5   female      25      1      2    113781    151.55  C22 C26        S  NaN   \n",
      "6     male      48      0      0     19952     26.55      E12        S    3   \n",
      "7   female      63      1      0     13502   77.9583       D7        S   10   \n",
      "8     male      39      0      0    112050         0      A36        S  NaN   \n",
      "9   female      53      2      0     11769   51.4792     C101        S    D   \n",
      "10    male      71      0      0  PC 17609   49.5042      NaN        C  NaN   \n",
      "11    male      47      1      0  PC 17757   227.525  C62 C64        C  NaN   \n",
      "12  female      18      1      0  PC 17757   227.525  C62 C64        C    4   \n",
      "13  female      24      0      0  PC 17477      69.3      B35        C    9   \n",
      "14  female      26      0      0     19877     78.85      NaN        S    6   \n",
      "15    male      80      0      0     27042        30      A23        S    B   \n",
      "16    male     NaN      0      0  PC 17318    25.925      NaN        S  NaN   \n",
      "17    male      24      0      1  PC 17558  247.5208  B58 B60        C  NaN   \n",
      "18  female      50      0      1  PC 17558  247.5208  B58 B60        C    6   \n",
      "19  female      32      0      0     11813   76.2917      D15        C    8   \n",
      "20    male      36      0      0     13050   75.2417       C6        C    A   \n",
      "\n",
      "   body                        home.dest  \n",
      "1   NaN                     St Louis, MO  \n",
      "2   NaN  Montreal, PQ / Chesterville, ON  \n",
      "3   NaN  Montreal, PQ / Chesterville, ON  \n",
      "4   135  Montreal, PQ / Chesterville, ON  \n",
      "5   NaN  Montreal, PQ / Chesterville, ON  \n",
      "6   NaN                     New York, NY  \n",
      "7   NaN                       Hudson, NY  \n",
      "8   NaN                      Belfast, NI  \n",
      "9   NaN              Bayside, Queens, NY  \n",
      "10   22              Montevideo, Uruguay  \n",
      "11  124                     New York, NY  \n",
      "12  NaN                     New York, NY  \n",
      "13  NaN                    Paris, France  \n",
      "14  NaN                              NaN  \n",
      "15  NaN                    Hessle, Yorks  \n",
      "16  NaN                     New York, NY  \n",
      "17  NaN                     Montreal, PQ  \n",
      "18  NaN                     Montreal, PQ  \n",
      "19  NaN                              NaN  \n",
      "20  NaN                     Winnipeg, MN  \n"
     ]
    }
   ],
   "source": [
    "path = 'data_titanic.txt'  \n",
    "columns = [\n",
    "    \"pclass\",\n",
    "    \"survived\",\n",
    "    \"name\",\n",
    "    \"sex\",\n",
    "    \"age\",\n",
    "    \"sibsp\",\n",
    "    \"parch\",\n",
    "    \"ticket\",\n",
    "    \"fare\",\n",
    "    \"cabin\",\n",
    "    \"embarked\",\n",
    "    \"boat\",\n",
    "    \"body\",\n",
    "    \"home.dest\"\n",
    "]\n",
    "\n",
    "data = pd.read_csv(path, header=None, names=columns, skiprows=17)\n",
    "\n",
    "data.index = range(1, len(data) + 1)\n",
    "\n",
    "data.replace('?', np.nan, inplace=True)\n",
    "print(\"20 początkowych wierszy po zamianie '?' na NaN: \\n\")\n",
    "print(data.head(20))"
   ]
  },
  {
   "cell_type": "markdown",
   "id": "aa112d8a-33e7-40c5-a90c-c7ad95b6cbd0",
   "metadata": {},
   "source": [
    "#### 0.    DODATKOWO: Sprawdź liczebność poszczególnych etykiet dla wszystkich zmiennych\n",
    "\n",
    "print('Liczba etykiet zmiennej zmiennaA:{}'.format(len(data. zmiennaA.unique())))"
   ]
  },
  {
   "cell_type": "code",
   "execution_count": 3,
   "id": "07495da6-7a7e-4ac0-b622-887f5445670a",
   "metadata": {},
   "outputs": [
    {
     "name": "stdout",
     "output_type": "stream",
     "text": [
      "Liczba etykiet zmiennej pclass:3\n",
      "Liczba etykiet zmiennej survived:2\n",
      "Liczba etykiet zmiennej name:1307\n",
      "Liczba etykiet zmiennej sex:2\n",
      "Liczba etykiet zmiennej age:99\n",
      "Liczba etykiet zmiennej sibsp:7\n",
      "Liczba etykiet zmiennej parch:8\n",
      "Liczba etykiet zmiennej ticket:929\n",
      "Liczba etykiet zmiennej fare:282\n",
      "Liczba etykiet zmiennej cabin:187\n",
      "Liczba etykiet zmiennej embarked:4\n",
      "Liczba etykiet zmiennej boat:28\n",
      "Liczba etykiet zmiennej body:122\n",
      "Liczba etykiet zmiennej home.dest:370\n"
     ]
    }
   ],
   "source": [
    "for column in columns:\n",
    "    print('Liczba etykiet zmiennej {}:{}'.format(\n",
    "    column, len(data[column].unique())))"
   ]
  },
  {
   "cell_type": "markdown",
   "id": "96bb40ae-9e02-4b52-b7ad-bd579b0c176d",
   "metadata": {},
   "source": [
    "#### 1.     Sprawdź liczebność poszczególnych etykiet dla danych zmiennych jakościowych\n",
    "\n",
    "print('Liczba etykiet zmiennej zmiennaA:{}'.format(len(data. zmiennaA.unique())))"
   ]
  },
  {
   "cell_type": "code",
   "execution_count": 4,
   "id": "17d0f76f-8a83-44c7-a874-0433409f10a9",
   "metadata": {},
   "outputs": [
    {
     "name": "stdout",
     "output_type": "stream",
     "text": [
      "Liczba etykiet zmiennej jakościowej pclass:3\n",
      "Liczba etykiet zmiennej jakościowej survived:2\n",
      "Liczba etykiet zmiennej jakościowej sex:2\n",
      "Liczba etykiet zmiennej jakościowej cabin:187\n",
      "Liczba etykiet zmiennej jakościowej embarked:4\n",
      "Liczba etykiet zmiennej jakościowej boat:28\n",
      "Liczba etykiet zmiennej jakościowej home.dest:370\n"
     ]
    }
   ],
   "source": [
    "qualitative_variables = [\n",
    "    \"pclass\",\n",
    "    \"survived\",\n",
    "    \"sex\",\n",
    "    \"cabin\",\n",
    "    \"embarked\",\n",
    "    \"boat\",\n",
    "    \"home.dest\"\n",
    "]\n",
    "\n",
    "for column in qualitative_variables:\n",
    "    print('Liczba etykiet zmiennej jakościowej {}:{}'.format(\n",
    "    column, len(data[column].unique())))"
   ]
  },
  {
   "cell_type": "markdown",
   "id": "770c7a0f-f10c-457d-bd60-ba1778935bce",
   "metadata": {},
   "source": [
    "#### 2.     Wyświetl z użyciem funkcji print liczbę wszystkich pasażerów. Wykorzystaj podobny sposób jak w pkt 1."
   ]
  },
  {
   "cell_type": "code",
   "execution_count": 5,
   "id": "2d1f1c55-866a-4c2d-bbe1-d6ddcdda39e7",
   "metadata": {},
   "outputs": [
    {
     "name": "stdout",
     "output_type": "stream",
     "text": [
      "Liczba wszystkich pasażerów: 1309\n"
     ]
    }
   ],
   "source": [
    "print('Liczba wszystkich pasażerów: {}'.format(len(data)))"
   ]
  },
  {
   "cell_type": "markdown",
   "id": "fac3ae1e-0256-48fd-916e-f1a1e283ba3c",
   "metadata": {},
   "source": [
    "#### 3.     Skomentuj wyniki otrzymane w punkcie 1 i 2. Podziel zmienne ze względu na dużą i małą moc zbioru (kardynalność)."
   ]
  },
  {
   "cell_type": "markdown",
   "id": "773c67f1-0c16-4cc4-b152-f6c140f806a6",
   "metadata": {},
   "source": [
    "##### Ogólna liczba pasażerów:\n",
    "\n",
    "Z analizy danych wynika, że na pokładzie Titanica znajdowało się 1309 pasażerów. Ta liczba stanowi podstawę do głębszego zrozumienia rozmiaru katastrofy oraz umożliwia szczegółowe badania."
   ]
  },
  {
   "cell_type": "markdown",
   "id": "7791bea2-51f7-452f-a3b5-a423c5e5fef5",
   "metadata": {},
   "source": [
    "##### Liczba etykiet zmiennych:\n",
    "\n",
    "- **pclass**: jest to `zmienna jakościowa`, ponieważ klasyfikuje pasażerów do określonych kategorii (klas) opartych na poziomie usług na statku; zmienna posiada 3 unikalne etykiety opisujące klasy biletów na statku.\n",
    "  \n",
    "- **survived**: `zmienna jakościowa`; zawiera 2 unikalne etykiety, które niosą ze sobą informacje czy dany pasażer przeżył katastrofe czy też nie.\n",
    "  \n",
    "- **name**: `nie jest zmienną jakościową`, ponieważ każda nazwa jest unikalna i nie grupuje się w większe kategorie, które miałyby zastosowanie analityczne; zawiera aż 1307 unikalnych etykiet, co jest prawie równe ogólne liczbie pasażerów - jest to typowe dla danych osobowych, gdzie każda nazwa identyfikuje osobę i jest unikalna.\n",
    "  \n",
    "- **sex**: `zmienna jakościowa`, bo klasyfikuje osoby do jednej z dwóch kategorii; zawiera 2 unikalne etykiety (male i female); ta zmienna jest kluczowa w analizach różnicujących wyniki w zależności od płci.\n",
    "  \n",
    "- **age**: `nie jest to zmienna jakościowa`, ponieważ reprezentuje wartości liczbowe (wiek), które można analizować kwantytatywnie (średnia, mediana); posiada 99 unikalnych etykiet; po wykonaniu grupowania na tej zmiennej mogłaby się ona stać zmienną jakościową; natomiast można przekształcić tą zmienną ilościową na jakościową po wykonaniu np. grupowania na jakieś grupy wiekowe\n",
    "  \n",
    "- **sibsp**: `nie jest to zmienna jakościowa`, tylko ilościowa, bo reprezentuje liczbe rodzeństwa/małżonków podróżujących z pasażerem; zawiera 7 unikalnych etykiet. \n",
    "  \n",
    "- **parch**: `nie jest to zmienna jakościowa`, tylko ilościowa, bo reprezentuje liczbe rodziców/dzieci podróżujących z pasażerem; zawiera 8 unikalnych etykiet.\n",
    "  \n",
    "- **ticket**: : `nie jest zmienną jakościową`; zawieraa 929 unikalnych etykiet; reprezentuje identyfikatory biletów, które nie grupują się w naturalnie rozróżnialne kategorie mające znaczenie analityczne. Obecność dodatkowych liter w niektórych oznaczeniach biletów może wskazywać na specjalne kategorie biletów, co sugeruje, że zmienna ta zawiera ukryte informacje o charakterze biletu. Z tego względu, warto rozważyć redukcję tej zmiennej poprzez stworzenie nowej zmiennej, która będzie skupiała się na ekstrakcji tych zaszytych, istotnych informacji z oryginalnego oznaczenia biletu.\n",
    "\n",
    "- **fare**: `nie jest zmienną jakościową`, ponieważ reprezentuje cenę biletu w formie liczbowej; zawiera 282 unikalne etykiety.\n",
    "  \n",
    "- **cabin**: `jest zmienną jakościową`, ponieważ lokalizacja kabiny jest kategoryzowana na podstawie oznaczeń, które mogą wskazywać na lokalizację na statku (ciągi znaków, składające się z kombinacji liter i cyfr); zawiera 187 unikalnych etykiet; reprezentuje ona numer / oznaczenie kabiny, w której przebywał pasażer na statku.\n",
    "  \n",
    "- **embarked**: `jest to zmienna jakościowa`, ponieważ miejsce wejścia na statek jest reprezentowane przez kilka kategorii oznaczających porty; zawiera 4 unikalne etykiety (trzy porty oraz jako czwarta wartość to NaN).\n",
    "  \n",
    "- **boat**: `jest to zmienna jakościowa`, ponieważ numery łodzi ratunkowych są kategoryzowane i mogą być analizowane jakościowo w kontekście ewakuacji.; zawiera 28 unikalnych etykiet; oznaczone cyframi lub liczbami co reprezentuje numer łodzi ratunkowej.\n",
    "  \n",
    "- **body**: `nie jest to zmienna jakościowa`, bo każdy numer jest unikalny i służy do celów identyfikacyjnych ofiar katastrofy; zawiera 122 unikalne etykiety.\n",
    "  \n",
    "- **home.dest**: `jest zmienną jakościową`, bo reprezentuje ona cel podróży pasażera i może być analizowane w kontekście geograficznym; zawiera 370 unikalnych etykiet.\n",
    "  \n",
    "\n",
    "\n",
    "**UWAGA**: jeśli w danej kolumnie znajdują się warości NaN to te wartości są traktowane jak dodatkowa unikalna etykieta, dzięki funkcji .unique()."
   ]
  },
  {
   "cell_type": "markdown",
   "id": "9e9781c4-819c-4083-8f1d-63fb10cf4c54",
   "metadata": {},
   "source": [
    "##### Wybór **zmiennych jakościowych** po analizie:\n",
    "* po przeprowadzeniu analizy zmiennymi jakościowymi są:\n",
    "  `pclass, survived, sex, cabin, embarked, boat, home.dest`"
   ]
  },
  {
   "cell_type": "markdown",
   "id": "b9039bc5-b7f4-4dd0-8756-a09c043ad313",
   "metadata": {},
   "source": [
    "##### Podział zmiennych ze względu na **kardynalność**:\n",
    "\n",
    "- `Niska kardynalność`: pclass, survived, sex, embarked\n",
    "- `Średnia kardynalność`: boat\n",
    "- `Wysoka kardynalność`: cabin, home.dest"
   ]
  },
  {
   "cell_type": "markdown",
   "id": "3fb4eae5-2353-43da-9902-11fdc2063a94",
   "metadata": {},
   "source": [
    "#### 4.  Sprawdź, ile unikalnych etykiet ma zmienna mówiąca o kabinie danego pasażera. Użyj takiej funkcji, która zwraca wynik w postaci NumPy array."
   ]
  },
  {
   "cell_type": "code",
   "execution_count": 6,
   "id": "94598325-715b-4008-965a-c2d4bfc741e2",
   "metadata": {},
   "outputs": [
    {
     "name": "stdout",
     "output_type": "stream",
     "text": [
      "Unikalne etykiety kabiny: ['B5' 'C22 C26' 'E12' 'D7' 'A36' 'C101' nan 'C62 C64' 'B35' 'A23'\n",
      " 'B58 B60' 'D15' 'C6' 'D35' 'C148' 'C97' 'B49' 'C99' 'C52' 'T' 'A31' 'C7'\n",
      " 'C103' 'D22' 'E33' 'A21' 'B10' 'B4' 'E40' 'B38' 'E24' 'B51 B53 B55'\n",
      " 'B96 B98' 'C46' 'E31' 'E8' 'B61' 'B77' 'A9' 'C89' 'A14' 'E58' 'E49' 'E52'\n",
      " 'E45' 'B22' 'B26' 'C85' 'E17' 'B71' 'B20' 'A34' 'C86' 'A16' 'A20' 'A18'\n",
      " 'C54' 'C45' 'D20' 'A29' 'C95' 'E25' 'C111' 'C23 C25 C27' 'E36' 'D34'\n",
      " 'D40' 'B39' 'B41' 'B102' 'C123' 'E63' 'C130' 'B86' 'C92' 'A5' 'C51' 'B42'\n",
      " 'C91' 'C125' 'D10 D12' 'B82 B84' 'E50' 'D33' 'C83' 'B94' 'D49' 'D45'\n",
      " 'B69' 'B11' 'E46' 'C39' 'B18' 'D11' 'C93' 'B28' 'C49' 'B52 B54 B56' 'E60'\n",
      " 'C132' 'B37' 'D21' 'D19' 'C124' 'D17' 'B101' 'D28' 'D6' 'D9' 'B80' 'C106'\n",
      " 'B79' 'C47' 'D30' 'C90' 'E38' 'C78' 'C30' 'C118' 'D36' 'D48' 'D47' 'C105'\n",
      " 'B36' 'B30' 'D43' 'B24' 'C2' 'C65' 'B73' 'C104' 'C110' 'C50' 'B3' 'A24'\n",
      " 'A32' 'A11' 'A10' 'B57 B59 B63 B66' 'C28' 'E44' 'A26' 'A6' 'A7' 'C31'\n",
      " 'A19' 'B45' 'E34' 'B78' 'B50' 'C87' 'C116' 'C55 C57' 'D50' 'E68' 'E67'\n",
      " 'C126' 'C68' 'C70' 'C53' 'B19' 'D46' 'D37' 'D26' 'C32' 'C80' 'C82' 'C128'\n",
      " 'E39 E41' 'D' 'F4' 'D56' 'F33' 'E101' 'E77' 'F2' 'D38' 'F' 'F G63'\n",
      " 'F E57' 'F E46' 'F G73' 'E121' 'F E69' 'E10' 'G6' 'F38']\n",
      "Liczba unikalnych etykiet kabiny: 187\n"
     ]
    }
   ],
   "source": [
    "unique_cabins = data['cabin'].unique()\n",
    "\n",
    "unique_cabins_array = np.array(unique_cabins)\n",
    "\n",
    "print(\"Unikalne etykiety kabiny:\", unique_cabins_array)\n",
    "print(\"Liczba unikalnych etykiet kabiny:\", len(unique_cabins_array))"
   ]
  },
  {
   "cell_type": "markdown",
   "id": "9d8aa9c7-fc63-43a7-b6e8-80528f1722ef",
   "metadata": {},
   "source": [
    "#### 5.     Zredukuj liczbę cech dla zmiennej opisującej kabiny poprzez zastąpienie obecnych etykiet w formacie LL11 do etykiet zawierających tylko pierwszą literę. Użyj astype(str).str[pozycja]. Nową zmienną nazwij CabinReduced. Wyświetl pierwsze 20 wierszy zbioru danych dla kolumn Cabin i CabinReduced"
   ]
  },
  {
   "cell_type": "code",
   "execution_count": 7,
   "id": "4e0a9016-5eda-494a-b249-3cd88dab1881",
   "metadata": {},
   "outputs": [
    {
     "name": "stdout",
     "output_type": "stream",
     "text": [
      "      cabin CabinReduced\n",
      "1        B5            B\n",
      "2   C22 C26            C\n",
      "3   C22 C26            C\n",
      "4   C22 C26            C\n",
      "5   C22 C26            C\n",
      "6       E12            E\n",
      "7        D7            D\n",
      "8       A36            A\n",
      "9      C101            C\n",
      "10      NaN            n\n",
      "11  C62 C64            C\n",
      "12  C62 C64            C\n",
      "13      B35            B\n",
      "14      NaN            n\n",
      "15      A23            A\n",
      "16      NaN            n\n",
      "17  B58 B60            B\n",
      "18  B58 B60            B\n",
      "19      D15            D\n",
      "20       C6            C\n"
     ]
    }
   ],
   "source": [
    "data['CabinReduced'] = data['cabin'].astype(str).str[0]\n",
    "print(data[['cabin', 'CabinReduced']].head(20))"
   ]
  },
  {
   "cell_type": "markdown",
   "id": "76999acb-ce6a-4856-844c-cb52f031d518",
   "metadata": {},
   "source": [
    "#### 6.     Wyświetl (jak w pkt 1) liczbę etykiet dla zmiennych z pkt 5. O ile procent zredukowano kardynalność zbioru zmiennej opisującej kabiny?"
   ]
  },
  {
   "cell_type": "code",
   "execution_count": 8,
   "id": "ab97f034-8daf-4084-a0e5-3308b0002316",
   "metadata": {},
   "outputs": [
    {
     "name": "stdout",
     "output_type": "stream",
     "text": [
      "Liczba etykiet zmiennej jakościowej cabin:187\n",
      "Liczba etykiet zmiennej jakościowej CabinReduced:9\n"
     ]
    }
   ],
   "source": [
    "columns_reduce = [\n",
    "    \"cabin\",\n",
    "    \"CabinReduced\"\n",
    "]\n",
    "\n",
    "for column in columns_reduce:\n",
    "    print('Liczba etykiet zmiennej jakościowej {}:{}'.format(\n",
    "        column, len(data[column].unique())))"
   ]
  },
  {
   "cell_type": "markdown",
   "id": "d6176db2-188c-412c-91ae-664dd1e23cbe",
   "metadata": {},
   "source": [
    "Obliczenie procentowej redukcji kardynalnoći zmiannej cabin po jej przekształceniu polega na zliczeniu liczby unikalnych wartości na orginalnej kloumnie cabin oraz na kolumnie przekształconej CabinReduced za pomocą funkcji .nunique(). Następnie obliczamy redukcje kardynalnoći jako różnice pomiędzy liczbą unikalnych wartości kolumny cabin oraz CabinReduced i tą wartość dzielimy liczbę unikalnych etykiet w orginalnej kolumnie cabin. Wszystko mnożymy przez 100, żeby otrzymać wynik procentowy."
   ]
  },
  {
   "cell_type": "code",
   "execution_count": 9,
   "id": "55fd533c-d63e-41c7-9e4d-ad45e3769e52",
   "metadata": {},
   "outputs": [
    {
     "name": "stdout",
     "output_type": "stream",
     "text": [
      "Zredukowano kardynalność zmiennej cabin o: 95.16%\n"
     ]
    }
   ],
   "source": [
    "unique_cabin_count = data['cabin'].nunique()\n",
    "unique_cabin_reduced_count = data['CabinReduced'].nunique()\n",
    "\n",
    "reduction_percentage = ((unique_cabin_count - \n",
    "                         unique_cabin_reduced_count) / unique_cabin_count) * 100\n",
    "print('Zredukowano kardynalność zmiennej cabin o: {:.2f}%'\n",
    "      .format(reduction_percentage))\n"
   ]
  },
  {
   "cell_type": "markdown",
   "id": "477b1329-fbf8-4042-ab7a-b481c9614570",
   "metadata": {},
   "source": [
    "#### 7.     Uzasadnij dlaczego dokonujesz redukcji akurat tej zmiennej. Jak to wpływa na przyszłe analizy. Czy powoduje jakieś negatywne skutki?"
   ]
  },
  {
   "cell_type": "markdown",
   "id": "9b8a1174-fd60-4534-9a69-d7668913a683",
   "metadata": {},
   "source": [
    "Dokonuję redukcji zmiennej opisującej kabiny, ponieważ zawiera ona dużą liczbę unikalnych etykiet, co komplikuje analizy, zaciemnia obraz danych i zwiększa ryzyko przeuczenia modelu uczenia maszynowego. Po wykonaniu redukcji liczba unikalnych wartości spadła ze 187 do 9 kategorii, co stanowi redukcję o około 95%. Taka zmiana znacząco upraszcza analizy i ich interpretację.\n",
    "\n",
    "Redukcja kardynalności zmiennej opisującej kabiny ma bezpośredni wpływ na przyszłe analizy, przede wszystkim poprzez uproszczenie modelowania danych i zmniejszenie złożoności obliczeniowej. Dzięki redukcji liczby kategorii, modele uczenia maszynowego mogą działać efektywniej, ponieważ mają mniej kategorii do przetwarzania, co zwykle przekłada się na szybsze i bardziej stabilne wyniki. To także ułatwia wizualizacje i interpretację danych, umożliwiając lepsze zrozumienie wzorców i zależności między zmiennymi.\n",
    "\n",
    "Jednakże, redukcja ta może również prowadzić do utraty istotnych informacji, które mogłyby być wykorzystane w bardziej szczegółowych analizach, takich jak dokładne umiejscowienie kabiny w strukturze statku, co mogło mieć znaczenie podczas ewakuacji. Ponadto, przez agregację danych, różne kabiny o potencjalnie różnych cechach (na przykład różne poziomy luksusu wewnątrz tej samej litery kategorii) są traktowane jako identyczne, co może wprowadzać błędy w analizie."
   ]
  }
 ],
 "metadata": {
  "kernelspec": {
   "display_name": "Python 3 (ipykernel)",
   "language": "python",
   "name": "python3"
  },
  "language_info": {
   "codemirror_mode": {
    "name": "ipython",
    "version": 3
   },
   "file_extension": ".py",
   "mimetype": "text/x-python",
   "name": "python",
   "nbconvert_exporter": "python",
   "pygments_lexer": "ipython3",
   "version": "3.11.8"
  }
 },
 "nbformat": 4,
 "nbformat_minor": 5
}
