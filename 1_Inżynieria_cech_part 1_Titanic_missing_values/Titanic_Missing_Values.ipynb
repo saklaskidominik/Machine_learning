{
 "cells": [
  {
   "cell_type": "markdown",
   "id": "4fb0c5ff-a7b3-4504-a4d5-c69a0476c74c",
   "metadata": {},
   "source": [
    "<h1 align=\"center\">Titanic - Missing Values</h1>\r\n",
    "<h2 align=\"center\">Dominik Sakłaski, 415120</h2>\r\n"
   ]
  },
  {
   "cell_type": "markdown",
   "id": "2e5bcb71-f3f4-42f5-ad32-dddcb458de11",
   "metadata": {},
   "source": [
    "#### 1. Załadowanie bibliotek"
   ]
  },
  {
   "cell_type": "code",
   "execution_count": 1,
   "id": "9ed99f2e-5ff8-4a2d-b1ea-bb6fda9b7c99",
   "metadata": {},
   "outputs": [],
   "source": [
    "import pandas as pd\n",
    "import numpy as np"
   ]
  },
  {
   "cell_type": "markdown",
   "id": "67eba9a6-b011-4009-8884-822b222fb794",
   "metadata": {},
   "source": [
    "#### 2. Wczytanie danych i wstępna inspekcja 20 pierwszych wierszy"
   ]
  },
  {
   "cell_type": "code",
   "execution_count": 2,
   "id": "921a477c-2433-4a3e-95c0-d1da7d4a9a54",
   "metadata": {},
   "outputs": [
    {
     "name": "stdout",
     "output_type": "stream",
     "text": [
      "20 pierwszych wierszy danych: \n",
      "\n",
      "    pclass  survived                                               name  \\\n",
      "1        1         1                      Allen, Miss. Elisabeth Walton   \n",
      "2        1         1                     Allison, Master. Hudson Trevor   \n",
      "3        1         0                       Allison, Miss. Helen Loraine   \n",
      "4        1         0               Allison, Mr. Hudson Joshua Creighton   \n",
      "5        1         0    Allison, Mrs. Hudson J C (Bessie Waldo Daniels)   \n",
      "6        1         1                                Anderson, Mr. Harry   \n",
      "7        1         1                  Andrews, Miss. Kornelia Theodosia   \n",
      "8        1         0                             Andrews, Mr. Thomas Jr   \n",
      "9        1         1      Appleton, Mrs. Edward Dale (Charlotte Lamson)   \n",
      "10       1         0                            Artagaveytia, Mr. Ramon   \n",
      "11       1         0                             Astor, Col. John Jacob   \n",
      "12       1         1  Astor, Mrs. John Jacob (Madeleine Talmadge Force)   \n",
      "13       1         1                      Aubart, Mme. Leontine Pauline   \n",
      "14       1         1                       Barber, Miss. Ellen 'Nellie'   \n",
      "15       1         1               Barkworth, Mr. Algernon Henry Wilson   \n",
      "16       1         0                                Baumann, Mr. John D   \n",
      "17       1         0                           Baxter, Mr. Quigg Edmond   \n",
      "18       1         1    Baxter, Mrs. James (Helene DeLaudeniere Chaput)   \n",
      "19       1         1                              Bazzani, Miss. Albina   \n",
      "20       1         0                               Beattie, Mr. Thomson   \n",
      "\n",
      "       sex     age  sibsp  parch    ticket      fare    cabin embarked boat  \\\n",
      "1   female      29      0      0     24160  211.3375       B5        S    2   \n",
      "2     male  0.9167      1      2    113781    151.55  C22 C26        S   11   \n",
      "3   female       2      1      2    113781    151.55  C22 C26        S    ?   \n",
      "4     male      30      1      2    113781    151.55  C22 C26        S    ?   \n",
      "5   female      25      1      2    113781    151.55  C22 C26        S    ?   \n",
      "6     male      48      0      0     19952     26.55      E12        S    3   \n",
      "7   female      63      1      0     13502   77.9583       D7        S   10   \n",
      "8     male      39      0      0    112050         0      A36        S    ?   \n",
      "9   female      53      2      0     11769   51.4792     C101        S    D   \n",
      "10    male      71      0      0  PC 17609   49.5042        ?        C    ?   \n",
      "11    male      47      1      0  PC 17757   227.525  C62 C64        C    ?   \n",
      "12  female      18      1      0  PC 17757   227.525  C62 C64        C    4   \n",
      "13  female      24      0      0  PC 17477      69.3      B35        C    9   \n",
      "14  female      26      0      0     19877     78.85        ?        S    6   \n",
      "15    male      80      0      0     27042        30      A23        S    B   \n",
      "16    male       ?      0      0  PC 17318    25.925        ?        S    ?   \n",
      "17    male      24      0      1  PC 17558  247.5208  B58 B60        C    ?   \n",
      "18  female      50      0      1  PC 17558  247.5208  B58 B60        C    6   \n",
      "19  female      32      0      0     11813   76.2917      D15        C    8   \n",
      "20    male      36      0      0     13050   75.2417       C6        C    A   \n",
      "\n",
      "   body                        home.dest  \n",
      "1     ?                     St Louis, MO  \n",
      "2     ?  Montreal, PQ / Chesterville, ON  \n",
      "3     ?  Montreal, PQ / Chesterville, ON  \n",
      "4   135  Montreal, PQ / Chesterville, ON  \n",
      "5     ?  Montreal, PQ / Chesterville, ON  \n",
      "6     ?                     New York, NY  \n",
      "7     ?                       Hudson, NY  \n",
      "8     ?                      Belfast, NI  \n",
      "9     ?              Bayside, Queens, NY  \n",
      "10   22              Montevideo, Uruguay  \n",
      "11  124                     New York, NY  \n",
      "12    ?                     New York, NY  \n",
      "13    ?                    Paris, France  \n",
      "14    ?                                ?  \n",
      "15    ?                    Hessle, Yorks  \n",
      "16    ?                     New York, NY  \n",
      "17    ?                     Montreal, PQ  \n",
      "18    ?                     Montreal, PQ  \n",
      "19    ?                                ?  \n",
      "20    ?                     Winnipeg, MN  \n"
     ]
    }
   ],
   "source": [
    "path = 'data_titanic.txt'  \n",
    "columns = [\n",
    "    \"pclass\",\n",
    "    \"survived\",\n",
    "    \"name\",\n",
    "    \"sex\",\n",
    "    \"age\",\n",
    "    \"sibsp\",\n",
    "    \"parch\",\n",
    "    \"ticket\",\n",
    "    \"fare\",\n",
    "    \"cabin\",\n",
    "    \"embarked\",\n",
    "    \"boat\",\n",
    "    \"body\",\n",
    "    \"home.dest\"\n",
    "]\n",
    "\n",
    "data = pd.read_csv(path, header=None, names=columns, skiprows=17)\n",
    "\n",
    "data.index = range(1, len(data) + 1)\n",
    "\n",
    "print(\"20 pierwszych wierszy danych: \\n\")\n",
    "print(data.head(20))\n",
    "\n",
    "data.to_csv('data_titanic_processed.csv', index=False)"
   ]
  },
  {
   "cell_type": "code",
   "execution_count": 3,
   "id": "3d129612-7562-403b-927b-9a2fc48a2734",
   "metadata": {},
   "outputs": [
    {
     "name": "stdout",
     "output_type": "stream",
     "text": [
      "Nazwy kolumn w danych: \n",
      "\n",
      "['pclass', 'survived', 'name', 'sex', 'age', 'sibsp', 'parch', 'ticket', 'fare', 'cabin', 'embarked', 'boat', 'body', 'home.dest']\n"
     ]
    }
   ],
   "source": [
    "print(\"Nazwy kolumn w danych: \\n\")\n",
    "print(list(data.columns))"
   ]
  },
  {
   "cell_type": "markdown",
   "id": "e99c1c9b-70c1-4c58-8867-d4d81f9ce7ca",
   "metadata": {},
   "source": [
    "##### Dane zawierają informacje o pasażerach Titanica. Wyróżanimy 14 cech w zbiorze:\n",
    "- **pclass**: jest to klasa, w której podróżował pasażer. Wartości { 1, 2, 3, } odpowiadają pierwszej, drugiej i trzeciej klasie odpowiednio - ta kolumna odzwierciedla status społeczno-ekonomiczny pasażerów.\n",
    "- **survived**: w tej kolumnie została zawarta informacja czy pasażer przeżył katastrofę (1 = przeżył, 0 = nie przeżył).\n",
    "- **name**: ta cecha zawiera pełne imię i nazwisko pasażera.\n",
    "- **sex**: ta kolumna określa płeć pasażera, male - mężczyzna lub female - kobieta.\n",
    "- **age**: jest to wiek pasażera w latach ( występują również wartości np. 0.9167 które określają prawdopodobnie ułamki roczne niemowląt).\n",
    "- **sibsp**: kolumna zawiera liczbę małżonków, lub rodzeństwa na pokładzie\n",
    "- **parch**: kolumna zawiera liczba rodziców, lub dzieci na pokładzie.\n",
    "- **ticket**: jest to numer biletu pasażera.\n",
    "- **fare**: zawiera cenę biletu.\n",
    "- **cabin**: kolumna zawiera numery kabin w której mieszkał pasażer.\n",
    "- **embarked**: zawiera nazwe portu, w którym pasażer wsiadł na statek(C=Cherbourg, Q=Queenstown, S=Southampton).\n",
    "- **boat**: cecha zawierająca numer łodzi ratunkowej, którą pasażer opuścił statek.\n",
    "- **body**: cecha zawierająca numer identyfikacyjny ciała, jeśli pasażer zginął i jego ciało zostało odnalezione.\n",
    "- **home.dest**: kolumna zawiera miejsce docelowe podróży."
   ]
  },
  {
   "cell_type": "markdown",
   "id": "6a3e799b-ee34-4e5a-8752-11140fdd753f",
   "metadata": {},
   "source": [
    "Wiele rekordów zawiera brakujące wartości oznaczone symbolem \"?\", które należy zmodyfikować. Szczególnie jest to widoczne w kolumnach cabin, boat, body i home.dest. Z tego powodu przed użyciem funkcji pd.isnull().sum() oraz pd.isnull().mean, należy zamienić \"?\" na standardową reprezentację brakujących danych NaN przy użyciu funkcji replace()."
   ]
  },
  {
   "cell_type": "markdown",
   "id": "42f9b861-1e8d-4b21-9a1d-490277b23114",
   "metadata": {},
   "source": [
    "#### 3. Zmiana oznaczenia brakujących danych w zbiorze "
   ]
  },
  {
   "cell_type": "code",
   "execution_count": 4,
   "id": "17a190bf-1fc0-4830-85bf-79c52053c33d",
   "metadata": {},
   "outputs": [
    {
     "name": "stdout",
     "output_type": "stream",
     "text": [
      "20 początkowych wierszy po zamianie '?' na NaN: \n",
      "\n",
      "    pclass  survived                                               name  \\\n",
      "1        1         1                      Allen, Miss. Elisabeth Walton   \n",
      "2        1         1                     Allison, Master. Hudson Trevor   \n",
      "3        1         0                       Allison, Miss. Helen Loraine   \n",
      "4        1         0               Allison, Mr. Hudson Joshua Creighton   \n",
      "5        1         0    Allison, Mrs. Hudson J C (Bessie Waldo Daniels)   \n",
      "6        1         1                                Anderson, Mr. Harry   \n",
      "7        1         1                  Andrews, Miss. Kornelia Theodosia   \n",
      "8        1         0                             Andrews, Mr. Thomas Jr   \n",
      "9        1         1      Appleton, Mrs. Edward Dale (Charlotte Lamson)   \n",
      "10       1         0                            Artagaveytia, Mr. Ramon   \n",
      "11       1         0                             Astor, Col. John Jacob   \n",
      "12       1         1  Astor, Mrs. John Jacob (Madeleine Talmadge Force)   \n",
      "13       1         1                      Aubart, Mme. Leontine Pauline   \n",
      "14       1         1                       Barber, Miss. Ellen 'Nellie'   \n",
      "15       1         1               Barkworth, Mr. Algernon Henry Wilson   \n",
      "16       1         0                                Baumann, Mr. John D   \n",
      "17       1         0                           Baxter, Mr. Quigg Edmond   \n",
      "18       1         1    Baxter, Mrs. James (Helene DeLaudeniere Chaput)   \n",
      "19       1         1                              Bazzani, Miss. Albina   \n",
      "20       1         0                               Beattie, Mr. Thomson   \n",
      "\n",
      "       sex     age  sibsp  parch    ticket      fare    cabin embarked boat  \\\n",
      "1   female      29      0      0     24160  211.3375       B5        S    2   \n",
      "2     male  0.9167      1      2    113781    151.55  C22 C26        S   11   \n",
      "3   female       2      1      2    113781    151.55  C22 C26        S  NaN   \n",
      "4     male      30      1      2    113781    151.55  C22 C26        S  NaN   \n",
      "5   female      25      1      2    113781    151.55  C22 C26        S  NaN   \n",
      "6     male      48      0      0     19952     26.55      E12        S    3   \n",
      "7   female      63      1      0     13502   77.9583       D7        S   10   \n",
      "8     male      39      0      0    112050         0      A36        S  NaN   \n",
      "9   female      53      2      0     11769   51.4792     C101        S    D   \n",
      "10    male      71      0      0  PC 17609   49.5042      NaN        C  NaN   \n",
      "11    male      47      1      0  PC 17757   227.525  C62 C64        C  NaN   \n",
      "12  female      18      1      0  PC 17757   227.525  C62 C64        C    4   \n",
      "13  female      24      0      0  PC 17477      69.3      B35        C    9   \n",
      "14  female      26      0      0     19877     78.85      NaN        S    6   \n",
      "15    male      80      0      0     27042        30      A23        S    B   \n",
      "16    male     NaN      0      0  PC 17318    25.925      NaN        S  NaN   \n",
      "17    male      24      0      1  PC 17558  247.5208  B58 B60        C  NaN   \n",
      "18  female      50      0      1  PC 17558  247.5208  B58 B60        C    6   \n",
      "19  female      32      0      0     11813   76.2917      D15        C    8   \n",
      "20    male      36      0      0     13050   75.2417       C6        C    A   \n",
      "\n",
      "   body                        home.dest  \n",
      "1   NaN                     St Louis, MO  \n",
      "2   NaN  Montreal, PQ / Chesterville, ON  \n",
      "3   NaN  Montreal, PQ / Chesterville, ON  \n",
      "4   135  Montreal, PQ / Chesterville, ON  \n",
      "5   NaN  Montreal, PQ / Chesterville, ON  \n",
      "6   NaN                     New York, NY  \n",
      "7   NaN                       Hudson, NY  \n",
      "8   NaN                      Belfast, NI  \n",
      "9   NaN              Bayside, Queens, NY  \n",
      "10   22              Montevideo, Uruguay  \n",
      "11  124                     New York, NY  \n",
      "12  NaN                     New York, NY  \n",
      "13  NaN                    Paris, France  \n",
      "14  NaN                              NaN  \n",
      "15  NaN                    Hessle, Yorks  \n",
      "16  NaN                     New York, NY  \n",
      "17  NaN                     Montreal, PQ  \n",
      "18  NaN                     Montreal, PQ  \n",
      "19  NaN                              NaN  \n",
      "20  NaN                     Winnipeg, MN  \n"
     ]
    }
   ],
   "source": [
    "data.replace('?', np.nan, inplace=True)\n",
    "print(\"20 początkowych wierszy po zamianie '?' na NaN: \\n\")\n",
    "print(data.head(20))"
   ]
  },
  {
   "cell_type": "markdown",
   "id": "bbabedb7-9290-4474-a0ad-cae0f641c1a0",
   "metadata": {},
   "source": [
    "#### 4. Analiza udziału wartości brakujących w danych"
   ]
  },
  {
   "cell_type": "code",
   "execution_count": 5,
   "id": "15416ae2-618f-482e-b68c-f5f8e07406bf",
   "metadata": {},
   "outputs": [
    {
     "name": "stdout",
     "output_type": "stream",
     "text": [
      "Liczba brakujących wartości dla każdej kolumny:\n",
      "\n",
      "pclass          0\n",
      "survived        0\n",
      "name            0\n",
      "sex             0\n",
      "age           263\n",
      "sibsp           0\n",
      "parch           0\n",
      "ticket          0\n",
      "fare            1\n",
      "cabin        1014\n",
      "embarked        2\n",
      "boat          823\n",
      "body         1188\n",
      "home.dest     564\n",
      "dtype: int64\n",
      "\n",
      "Procent brakujących wartości w każdej kolumnie:\n",
      "\n",
      "pclass        0.000000\n",
      "survived      0.000000\n",
      "name          0.000000\n",
      "sex           0.000000\n",
      "age          20.091673\n",
      "sibsp         0.000000\n",
      "parch         0.000000\n",
      "ticket        0.000000\n",
      "fare          0.076394\n",
      "cabin        77.463713\n",
      "embarked      0.152788\n",
      "boat         62.872422\n",
      "body         90.756303\n",
      "home.dest    43.086325\n",
      "dtype: float64\n"
     ]
    }
   ],
   "source": [
    "values_NaN = data.isnull().sum()\n",
    "print(\"Liczba brakujących wartości dla każdej kolumny:\\n\")\n",
    "print(values_NaN)\n",
    "\n",
    "values_NaN_percent = data.isnull().mean() * 100 \n",
    "#dzięki pomożeniu *100 otrzymujemy wartość procentową\n",
    "print(\"\\nProcent brakujących wartości w każdej kolumnie:\\n\")\n",
    "print(values_NaN_percent)"
   ]
  },
  {
   "cell_type": "code",
   "execution_count": 6,
   "id": "516b3f9d-81a1-41a0-b9f1-bea9c46311a4",
   "metadata": {},
   "outputs": [
    {
     "name": "stdout",
     "output_type": "stream",
     "text": [
      "Kolumny zawierające wartości NaN: ['age', 'fare', 'cabin', 'embarked', 'boat', 'body', 'home.dest']\n"
     ]
    }
   ],
   "source": [
    "# wybór kolumn, które posiadają wartości NaN\n",
    "columns_with_nan = data.columns[data.isnull().any()].tolist()\n",
    "print(\"Kolumny zawierające wartości NaN:\", columns_with_nan)"
   ]
  },
  {
   "cell_type": "code",
   "execution_count": 7,
   "id": "dfaaaded-8622-4fd9-8932-df25415b5206",
   "metadata": {},
   "outputs": [
    {
     "name": "stdout",
     "output_type": "stream",
     "text": [
      "Udział % NaN w kolumnie 'age' względem 'survived':\n",
      "survived\n",
      "0    23.485785\n",
      "1    14.600000\n",
      "Name: ageNull, dtype: float64\n",
      "\n",
      "Udział % NaN w kolumnie 'age' względem 'pclass':\n",
      "pclass\n",
      "1    12.074303\n",
      "2     5.776173\n",
      "3    29.337094\n",
      "Name: ageNull, dtype: float64\n",
      "\n",
      "Udział % NaN w kolumnie 'fare' względem 'survived':\n",
      "survived\n",
      "0    0.123609\n",
      "1    0.000000\n",
      "Name: fareNull, dtype: float64\n",
      "\n",
      "Udział % NaN w kolumnie 'fare' względem 'pclass':\n",
      "pclass\n",
      "1    0.000000\n",
      "2    0.000000\n",
      "3    0.141044\n",
      "Name: fareNull, dtype: float64\n",
      "\n",
      "Udział % NaN w kolumnie 'cabin' względem 'survived':\n",
      "survived\n",
      "0    87.391842\n",
      "1    61.400000\n",
      "Name: cabinNull, dtype: float64\n",
      "\n",
      "Udział % NaN w kolumnie 'cabin' względem 'pclass':\n",
      "pclass\n",
      "1    20.743034\n",
      "2    91.696751\n",
      "3    97.743300\n",
      "Name: cabinNull, dtype: float64\n",
      "\n",
      "Udział % NaN w kolumnie 'embarked' względem 'survived':\n",
      "survived\n",
      "0    0.0\n",
      "1    0.4\n",
      "Name: embarkedNull, dtype: float64\n",
      "\n",
      "Udział % NaN w kolumnie 'embarked' względem 'pclass':\n",
      "pclass\n",
      "1    0.619195\n",
      "2    0.000000\n",
      "3    0.000000\n",
      "Name: embarkedNull, dtype: float64\n",
      "\n",
      "Udział % NaN w kolumnie 'boat' względem 'survived':\n",
      "survived\n",
      "0    98.887515\n",
      "1     4.600000\n",
      "Name: boatNull, dtype: float64\n",
      "\n",
      "Udział % NaN w kolumnie 'boat' względem 'pclass':\n",
      "pclass\n",
      "1    37.770898\n",
      "2    59.566787\n",
      "3    75.599436\n",
      "Name: boatNull, dtype: float64\n",
      "\n",
      "Udział % NaN w kolumnie 'body' względem 'survived':\n",
      "survived\n",
      "0     85.043263\n",
      "1    100.000000\n",
      "Name: bodyNull, dtype: float64\n",
      "\n",
      "Udział % NaN w kolumnie 'body' względem 'pclass':\n",
      "pclass\n",
      "1    89.164087\n",
      "2    88.808664\n",
      "3    92.242595\n",
      "Name: bodyNull, dtype: float64\n",
      "\n",
      "Udział % NaN w kolumnie 'home.dest' względem 'survived':\n",
      "survived\n",
      "0    50.803461\n",
      "1    30.600000\n",
      "Name: home.destNull, dtype: float64\n",
      "\n",
      "Udział % NaN w kolumnie 'home.dest' względem 'pclass':\n",
      "pclass\n",
      "1    10.526316\n",
      "2     5.776173\n",
      "3    72.496474\n",
      "Name: home.destNull, dtype: float64\n",
      "\n"
     ]
    }
   ],
   "source": [
    "# mapowanie po kolumnach z NaN względem 'survived' i 'pclass'\n",
    "for column in columns_with_nan:\n",
    "    col_nan = f'{column}Null'\n",
    "    data[col_nan] = np.where(data[column].isnull(), 1, 0)\n",
    "\n",
    "    # obliczanie udziału % NaN dla 'survived'\n",
    "    mean_by_survived = data.groupby('survived')[col_nan].mean() * 100\n",
    "    print(f\"Udział % NaN w kolumnie '{column}' względem 'survived':\\n\"\n",
    "        f\"{mean_by_survived}\\n\")\n",
    "\n",
    "    # obliczanie udziału % NaN dla 'pclass'\n",
    "    mean_by_pclass = data.groupby('pclass')[col_nan].mean() * 100\n",
    "    print(f\"Udział % NaN w kolumnie '{column}' względem 'pclass':\\n\"\n",
    "        f\"{mean_by_pclass}\\n\")\n"
   ]
  },
  {
   "cell_type": "code",
   "execution_count": 8,
   "id": "9c5926b4-e07d-40ed-a2f1-04173dc14e62",
   "metadata": {},
   "outputs": [
    {
     "name": "stdout",
     "output_type": "stream",
     "text": [
      "Udział % Nan kolumny 'boat' względem 'survived':\n",
      "\n",
      "survived\n",
      "0    98.887515\n",
      "1     4.600000\n",
      "Name: BoatNull2, dtype: float64\n"
     ]
    }
   ],
   "source": [
    "# PRZYKŁAD DLA WYBRANYCH KOLUMN:\n",
    "# mapoowanie kolumny boat względem survived \n",
    "# połączona funkcja w jedną linijkę wykonana przy pomocy AI\n",
    "mean_boat_by_survived = (\n",
    "    data.assign(BoatNull2=np.where(data['boat'].isnull(), 1, 0))\n",
    "    .groupby('survived')['BoatNull2']\n",
    "    .mean() * 100\n",
    ")\n",
    "print(\"Udział % Nan kolumny 'boat' względem 'survived':\\n\")\n",
    "print(mean_boat_by_survived)"
   ]
  },
  {
   "cell_type": "markdown",
   "id": "3a449486-753b-489e-a727-9ae72e38c28f",
   "metadata": {},
   "source": [
    "##### Analiza użyskanych wyników: \n",
    "\n",
    "Kolumny takie jak pclass, survived, name, sex, sibsp, parch, ticket nie zawierają brakujących danych (w 100 procentach są kompletne). \n",
    "\n",
    "Kolumny zawierające brakujące dane z uzasadnieniem:\n",
    "- **fare** - kolumna zawiera tylko 1 brakującą wartość (< 1% ogółu danych w kolumnie), może to być spowodowane błędem w gromadzeniu danych lub wynikać z niedopatrzeń przy rejstrowaniu danych finansowych. Raczej nie jest to powiązane z żadna inną cechą. Po analizie brakujących danych w kontekście przeżywalności, można wywnioskować, że te dwie cechy nie ma między nimi związku, ponieważ udział wynosi < 1%.\n",
    "  \n",
    "- **embarked** - kolumna zawiera tylko 2 wartości NaN (< 1% ogółu danych w kolumnie), może wynikać z przypadkowych błędów podczas sporządzania dokumentacji. Analiza udziału brakujących danych w kontekście przeżywalności wskazuje, że nie istnieje istotny związek między brakującymi wartościami a przeżywalnością. Wśród pasażerów, którzy nie przeżyli, nie odnotowano brakujących danych, natomiast dla osób, które przeżyły, udział brakujących danych to tylko 0.4%.\n",
    "  \n",
    "- **age** - kolumna zawiera 263 wartości brakujące (~ 20% ogółu danych w kolumnie), może to wynikać niekompletnie prowadzonej dokumentacji, a także możliwe, że wiek pasażerów nie był obowiązkowy do podawania przy rejestrowaniu na statku (prawdopodobnie na początku 20 wieku wiek nie zawsze był uznawany za ważną informację do zapisu). Po wyliczeniu udziału brakujących wartości w zależności od klasy, można stwierdzić, że trzecia klasa ma największy odsetek wartości NaN co może sugerować, iż nie przykładano się do dokumentaji pasażerów najniższych klas. Po analizie brakujących danych w kontekście przeżywalności, można wywnioskować, że istnieje mało istotny związek między brakującymi wartościami a przeżywalnością, ponieważ udział wartość NaN wsród osób, które nie przeżyły wynosi ok. 24%.\n",
    "  \n",
    "- **home.dest** - kolumna zawiera 564 wartości NaN (~ 43% ogółu danych w kolumnie), co może być spowodowane nieobowiązkowością podawania tych danych przez pasażerów lub ze względu na to, że niektórzy pasażerowie płynęli \"przed siebie\", szukając pracy/miejsca do osiedlenia się, bez konkretnego celu podróży. Wynikiem tego może być również utrata części dokumentacji podczas zatonięcia statku lub zasada, która nie wymagała zbierania takich informacji od osób podróżujących niższymi klasami — zauważalna jest pewna zależność między niższą klasą a brakiem informacji o miejscu docelowym. Po wyliczeniu udziału brakujących wartości w zależności od klasy, można stwierdzić, że najwyższy odsetek brakujących wartości występuje w klasie 3, a najniższy w pierwszej klasie, co potwierdza moje wcześniejsze wnioski odnośnie tej cechy. Natomiast po analizie brakujących danych w kontekście przeżywalności, można wywnioskować, że istnieje dość istotny związek między brakującymi wartościami, a przeżywalnością, ponieważ udział wartość NaN wsród osób, które nie przeżyły wynosi ok. 50%.\n",
    "  \n",
    "- **boat** - kolumna zawiera 823 wartości brakujące (~ 63% ogółu danych w kolumnie), może to być następstwem ograniczonej dostępności łodzi ratunkowych - nie każdy pasażer miał przypisane miejsce w łodzi. Analiza brakujących wartości w zależności od klasy pokazuje, że wśród pasażerów trzeciej klasy około 75% nie miało przypisanego miejsca w łodzi ratunkowej, podczas gdy w pierwszej klasie odsetek ten wynosił tylko około 38%. Dodatkowo, po analizie brakujących danych w kontekście przeżywalności, można stwierdzić, że około 98% pasażerów, którzy zginęli, nie miało miejsca w łodziach ratunkowych. Wynika z tego, że posiadanie zagwarantowanego miejsca w łodzi ratunkowej znacząco zwiększało szanse na przeżycie katastrofy. Jest tu wyraźne zauważalna zależność pomiędzy kolumnami boat, a survived.\n",
    "  \n",
    "- **cabin** - kolumna zawiera aż 1014 wartości NaN (~ 77% ogółu danych w kolumnie), może to wynikać z faktu, że pasażerowie z niszych klas (2 i 3 klasa) nie mieli przydzielonych lub rejestrowanych kabin.  Analiza brakujących wartości w zależności od klasy pokazuje, że prawie wszyscy pasażerowie drugiej i trzeciej klasy nie mieli zapewnionych miejsc zakwaterowania. Obliczenia pokazują, że w niższych klasach brakujące wartości stanowią kolejno: druga klasa - ok. 92%, trzecia klasa - ok. 98%, co potwierdza moje wcześniejsze wnioski. Natomiast po analizie brakujących danych w kontekście przeżywalności, można wywnioskować, że istnieje istotny związek między brakującymi wartościami a przeżywalnością, ponieważ udział wartość NaN wsród osób, które nie przeżyły wynosi ok. 87%. Te dwie cechy są istotnie powiązane ze sobą.\n",
    "\n",
    "- **body** - kolumna zawiera aż 1188 wartości brakujące (~ 91% ogółu danych w kolumnie), może to być następstwem nieodnalezienia wielu ciał ofiar katastrofy lub braku identyfikacji ciała (brak możliwości przypisania danych pasażera do znalezionego ciała). Analiza brakujących wartości w zależności od klasy pokazuje w miarę równomierny rozkład udziału wartości NaN pomiędzy klasami. Po analizie brakujących danych w kontekście przeżywalności, można wywnioskować, że ok. 85 procent pasażerów, którzy nie przeżyli nie mają zarejstrowanych numeru ciała, co może być skutkiem nieodnalezienia ciała po katastrofie. Natomiast 100-procentowy wynik wśród osób, które przeżyły, jest zrozumiały, ponieważ żywym pasażerom nie przypisuje się numeru ciała."
   ]
  },
  {
   "cell_type": "markdown",
   "id": "887e6b10-a045-4bb1-ac5e-71b614043fb2",
   "metadata": {},
   "source": [
    "#### 5. Analiza rodzajów brakujących danych w zbiorze"
   ]
  },
  {
   "cell_type": "markdown",
   "id": "ce1ae7fc-e151-4b67-8e50-a4c2109469ff",
   "metadata": {},
   "source": [
    "- całkowicie przypadkowe (MCAR): dane brakujące w kolumnach 'fare' oraz 'embarked' można klasyfikować jako całkowicie przypadkowe (MCAR), gdyż ich udział procentowy w całości danych dla tych kolumn jest mniejszy niż 1%, nie jest związany z innymi danymi i nie ma istotnego wpływu na analizowane zmienne.\n",
    "  \n",
    "- przypadkowe (MAR): dane brakujące w kolumnie 'age' można klasyfikować jako przypadkowe (MAR), gdyż mogą być związane z klasą społeczną (pclass), gdzie braki są częściej obserwowane w niższych klasach, co może świadczyć o mniejszej dokładności, dostępności dokumentacji dla pasażerów z niższych klas społecznych lub braku wymagalności podania wieku.\n",
    "\n",
    "- nie przypadkowe (MNAR): dane brakujące w kolumnach 'body', 'boat', 'cabin', 'home.dest' można klasyfikować jako nie przypadkowe (MNAR), gdyż brak tych danych jest bezpośrednio związany z faktem, czy pasażer przeżył. Przykładowo osoby, które nie przeżyły, rzadziej miały przypisane numery łodzi, a numery ciał są brakujące głównie dla osób, których ciała nie zostały odnalezione lub zidentyfikowane."
   ]
  },
  {
   "cell_type": "markdown",
   "id": "db4a7f19-aae1-4730-aaec-02ecbda62721",
   "metadata": {},
   "source": [
    "#### 6. Polecenie: po powyższej analizie odpowiedz na pytanie w jaki sposób należy postąpić z brakującymi wartościami."
   ]
  },
  {
   "cell_type": "markdown",
   "id": "5392d503-a8e0-47c0-86df-061b8775619a",
   "metadata": {},
   "source": [
    "- **fare** - jedna brakująca wartość może być łatwo uzupełniona przez medianę lub średnią wartość biletu.\n",
    "\n",
    "- **embarked** - dwie brakujące wartości można uzupełnić najczęściej występującą wartością (modą) w tej kolumnie.\n",
    "  \n",
    "- **age** - wartości te można imputować przy użyciu zaawansowanych technik - np. imputacja wielowymiarowa.\n",
    "\n",
    "- **home.dest** - ze względu na niemożliwość odtworzenia celu podróży i dużego odsetku brakujących wartości proponuje pozostawić te wartości jako 'unknown_dest'.\n",
    "  \n",
    "- **boat** - ze względu na duże powiązania z innymi cechami proponuje pozostawienie tych wartości jako 'no_boat'.\n",
    "  \n",
    "- **cabin** - wysoki odsetek brakujących danych, szczególnie w niższych klasach, może wskazywać na to, że wielu pasażerów nie miało przydzielonych kabin, dlatego proponuje przypisanie wartości 'unknown_cabin'.\n",
    "  \n",
    "- **body** ze względu na bardzo wysoki procent brakujących danych i związek tych danych z pasażerami, którzy zginęli i których ciała nie zostały odnalezione lub zidentyfikowane, najlepiej jest pozostawić te wartości jako brakujące albo jako 'no_body'."
   ]
  }
 ],
 "metadata": {
  "kernelspec": {
   "display_name": "Python 3 (ipykernel)",
   "language": "python",
   "name": "python3"
  },
  "language_info": {
   "codemirror_mode": {
    "name": "ipython",
    "version": 3
   },
   "file_extension": ".py",
   "mimetype": "text/x-python",
   "name": "python",
   "nbconvert_exporter": "python",
   "pygments_lexer": "ipython3",
   "version": "3.11.8"
  }
 },
 "nbformat": 4,
 "nbformat_minor": 5
}
