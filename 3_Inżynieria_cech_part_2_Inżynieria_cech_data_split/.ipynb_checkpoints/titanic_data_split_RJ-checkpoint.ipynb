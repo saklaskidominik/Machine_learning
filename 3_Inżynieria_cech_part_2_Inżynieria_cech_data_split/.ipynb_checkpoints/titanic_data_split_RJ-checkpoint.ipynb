{
 "cells": [
  {
   "cell_type": "markdown",
   "id": "6989e395-89ce-4130-aa10-79350f763f84",
   "metadata": {},
   "source": [
    "# Titanic data split"
   ]
  },
  {
   "cell_type": "markdown",
   "id": "bf0f3a2c-c850-4cc3-8371-0057eaacf1ba",
   "metadata": {},
   "source": [
    "## Roksana Jandura IiAD nr. 416314"
   ]
  },
  {
   "cell_type": "markdown",
   "id": "db682434-d011-410c-975f-185602884826",
   "metadata": {},
   "source": [
    "### Wczytaj końcowy i przetworzony zbiór danych Titanic z poprzednich zajęć."
   ]
  },
  {
   "cell_type": "code",
   "execution_count": 33,
   "id": "879dab01-4dc0-4de0-a098-2553a93e353b",
   "metadata": {},
   "outputs": [
    {
     "name": "stdout",
     "output_type": "stream",
     "text": [
      "    'pclass'  'survived'                                             'name'  \\\n",
      "0          1           1                      Allen, Miss. Elisabeth Walton   \n",
      "1          1           1                     Allison, Master. Hudson Trevor   \n",
      "2          1           0                       Allison, Miss. Helen Loraine   \n",
      "3          1           0               Allison, Mr. Hudson Joshua Creighton   \n",
      "4          1           0    Allison, Mrs. Hudson J C (Bessie Waldo Daniels)   \n",
      "5          1           1                                Anderson, Mr. Harry   \n",
      "6          1           1                  Andrews, Miss. Kornelia Theodosia   \n",
      "7          1           0                             Andrews, Mr. Thomas Jr   \n",
      "8          1           1      Appleton, Mrs. Edward Dale (Charlotte Lamson)   \n",
      "9          1           0                            Artagaveytia, Mr. Ramon   \n",
      "10         1           0                             Astor, Col. John Jacob   \n",
      "11         1           1  Astor, Mrs. John Jacob (Madeleine Talmadge Force)   \n",
      "12         1           1                      Aubart, Mme. Leontine Pauline   \n",
      "13         1           1                       Barber, Miss. Ellen 'Nellie'   \n",
      "14         1           1               Barkworth, Mr. Algernon Henry Wilson   \n",
      "15         1           0                                Baumann, Mr. John D   \n",
      "16         1           0                           Baxter, Mr. Quigg Edmond   \n",
      "17         1           1    Baxter, Mrs. James (Helene DeLaudeniere Chaput)   \n",
      "18         1           1                              Bazzani, Miss. Albina   \n",
      "19         1           0                               Beattie, Mr. Thomson   \n",
      "20         1           1                      Beckwith, Mr. Richard Leonard   \n",
      "21         1           1   Beckwith, Mrs. Richard Leonard (Sallie Monypeny)   \n",
      "22         1           1                              Behr, Mr. Karl Howell   \n",
      "23         1           1                              Bidois, Miss. Rosalie   \n",
      "24         1           1                                  Bird, Miss. Ellen   \n",
      "25         1           0                                Birnbaum, Mr. Jakob   \n",
      "26         1           1                            Bishop, Mr. Dickinson H   \n",
      "27         1           1            Bishop, Mrs. Dickinson H (Helen Walton)   \n",
      "28         1           1                             Bissette, Miss. Amelia   \n",
      "29         1           1          Bjornstrom-Steffansson, Mr. Mauritz Hakan   \n",
      "\n",
      "     'sex'    'age'  'sibsp'  'parch'  'ticket'    'fare'  'cabin' 'embarked'  \\\n",
      "0   female  29.0000        0        0     24160  211.3375       B5          S   \n",
      "1     male   0.9167        1        2    113781  151.5500  C22 C26          S   \n",
      "2   female   2.0000        1        2    113781  151.5500  C22 C26          S   \n",
      "3     male  30.0000        1        2    113781  151.5500  C22 C26          S   \n",
      "4   female  25.0000        1        2    113781  151.5500  C22 C26          S   \n",
      "5     male  48.0000        0        0     19952   26.5500      E12          S   \n",
      "6   female  63.0000        1        0     13502   77.9583       D7          S   \n",
      "7     male  39.0000        0        0    112050    0.0000      A36          S   \n",
      "8   female  53.0000        2        0     11769   51.4792     C101          S   \n",
      "9     male  71.0000        0        0  PC 17609   49.5042      NaN          C   \n",
      "10    male  47.0000        1        0  PC 17757  227.5250  C62 C64          C   \n",
      "11  female  18.0000        1        0  PC 17757  227.5250  C62 C64          C   \n",
      "12  female  24.0000        0        0  PC 17477   69.3000      B35          C   \n",
      "13  female  26.0000        0        0     19877   78.8500      NaN          S   \n",
      "14    male  80.0000        0        0     27042   30.0000      A23          S   \n",
      "15    male      NaN        0        0  PC 17318   25.9250      NaN          S   \n",
      "16    male  24.0000        0        1  PC 17558  247.5208  B58 B60          C   \n",
      "17  female  50.0000        0        1  PC 17558  247.5208  B58 B60          C   \n",
      "18  female  32.0000        0        0     11813   76.2917      D15          C   \n",
      "19    male  36.0000        0        0     13050   75.2417       C6          C   \n",
      "20    male  37.0000        1        1     11751   52.5542      D35          S   \n",
      "21  female  47.0000        1        1     11751   52.5542      D35          S   \n",
      "22    male  26.0000        0        0    111369   30.0000     C148          C   \n",
      "23  female  42.0000        0        0  PC 17757  227.5250      NaN          C   \n",
      "24  female  29.0000        0        0  PC 17483  221.7792      C97          S   \n",
      "25    male  25.0000        0        0     13905   26.0000      NaN          C   \n",
      "26    male  25.0000        1        0     11967   91.0792      B49          C   \n",
      "27  female  19.0000        1        0     11967   91.0792      B49          C   \n",
      "28  female  35.0000        0        0  PC 17760  135.6333      C99          S   \n",
      "29    male  28.0000        0        0    110564   26.5500      C52          S   \n",
      "\n",
      "   'boat'  'body'                         'home.dest' CabinReduced  \n",
      "0       2     NaN                        St Louis, MO            B  \n",
      "1      11     NaN     Montreal, PQ / Chesterville, ON            C  \n",
      "2     NaN     NaN     Montreal, PQ / Chesterville, ON            C  \n",
      "3     NaN   135.0     Montreal, PQ / Chesterville, ON            C  \n",
      "4     NaN     NaN     Montreal, PQ / Chesterville, ON            C  \n",
      "5       3     NaN                        New York, NY            E  \n",
      "6      10     NaN                          Hudson, NY            D  \n",
      "7     NaN     NaN                         Belfast, NI            A  \n",
      "8       D     NaN                 Bayside, Queens, NY            C  \n",
      "9     NaN    22.0                 Montevideo, Uruguay            n  \n",
      "10    NaN   124.0                        New York, NY            C  \n",
      "11      4     NaN                        New York, NY            C  \n",
      "12      9     NaN                       Paris, France            B  \n",
      "13      6     NaN                                 NaN            n  \n",
      "14      B     NaN                       Hessle, Yorks            A  \n",
      "15    NaN     NaN                        New York, NY            n  \n",
      "16    NaN     NaN                        Montreal, PQ            B  \n",
      "17      6     NaN                        Montreal, PQ            B  \n",
      "18      8     NaN                                 NaN            D  \n",
      "19      A     NaN                        Winnipeg, MN            C  \n",
      "20      5     NaN                        New York, NY            D  \n",
      "21      5     NaN                        New York, NY            D  \n",
      "22      5     NaN                        New York, NY            C  \n",
      "23      4     NaN                                 NaN            n  \n",
      "24      8     NaN                                 NaN            C  \n",
      "25    NaN   148.0                   San Francisco, CA            n  \n",
      "26      7     NaN                        Dowagiac, MI            B  \n",
      "27      7     NaN                        Dowagiac, MI            B  \n",
      "28      8     NaN                                 NaN            C  \n",
      "29      D     NaN  Stockholm, Sweden / Washington, DC            C  \n"
     ]
    }
   ],
   "source": [
    "import pandas as pd\n",
    "df = pd.read_csv(\"C:/Users/Dell/OneDrive/Pulpit/studia/VI_SEM/UM/Machine_learning_labs/Titanic_cardinality/titanic_cardinality.csv\")\n",
    "print(df.head(30))"
   ]
  },
  {
   "cell_type": "markdown",
   "id": "f9179172-8af0-4582-b2d3-48c7f7aaa834",
   "metadata": {},
   "source": [
    "###  Zapoznaj się z funkcja train_test_split wchodzącą w skład biblioteki Scikit-learn. Zapisz swoje obserwacje."
   ]
  },
  {
   "cell_type": "markdown",
   "id": "85cd9c9d-f618-4e00-8cd3-6a891237bea0",
   "metadata": {},
   "source": [
    "Funkcja train_test_split() dzieli zbiór danych (np. cechy i etykiety) na część treningową i część testową. Parametry:\n",
    "\n",
    "* test_size - ile danych przeznaczyć na test\n",
    "\n",
    "* train_size - można podać zamiast test_size\n",
    "\n",
    "* random_state - ustawienie losowości (dla powtarzalnych wyników)\n",
    "\n",
    "* shuffle=True - czy mieszać dane przed podziałem\n"
   ]
  },
  {
   "cell_type": "markdown",
   "id": "2907b6de-e353-4300-b452-1a1bd69d43bf",
   "metadata": {},
   "source": [
    "### Stwórz zmienną do której zapiszesz listę z nazwami trzech kolumn – kabiny, zredukowane kabiny oraz płeć. Nazwij ją col_name.\n",
    "\n"
   ]
  },
  {
   "cell_type": "code",
   "execution_count": 8,
   "id": "f2c10a11-d578-4c55-864e-28a63139f6e0",
   "metadata": {},
   "outputs": [],
   "source": [
    "col_name = [\"'cabin'\", 'CabinReduced', \"'sex'\"]\n"
   ]
  },
  {
   "cell_type": "markdown",
   "id": "5b81360e-d0d0-4eaf-b943-23d0fb3f9aff",
   "metadata": {},
   "source": [
    "### Podziel zbiór na treningowy i testowy używając train_test_split.\n",
    "\n",
    "Jako zmienną niezależną ustaw dane składające się z kolumn o nazwach zapisanych w col_name. Jako zmienną zależną ustaw kolumnę mówiącą o tym czy ktoś przeżył czy nie.  Ustaw rozmiar zbioru testowego na 20 lub 30% całości. Parametr random_state ustaw jako 0.\n",
    "\n",
    "Wyświetl wymiary zbiorów X_train, X_test, y_train, y_test używając .shape() i skomentuj wyniki."
   ]
  },
  {
   "cell_type": "code",
   "execution_count": 29,
   "id": "64be450c-a31c-4358-9f9c-1a134bd0b3a9",
   "metadata": {},
   "outputs": [],
   "source": [
    "from sklearn.model_selection import train_test_split\n",
    "X = df[col_name]\n",
    "y = df[\"'survived'\"]\n",
    "X_train, X_test, y_train, y_test = train_test_split(\n",
    "    X, y, test_size=0.3, random_state=0 )\n"
   ]
  },
  {
   "cell_type": "code",
   "execution_count": 30,
   "id": "d3ede664-8108-4fad-a34d-7b8fac237642",
   "metadata": {},
   "outputs": [
    {
     "name": "stdout",
     "output_type": "stream",
     "text": [
      "X_train shape: (916, 3)\n",
      "X_test shape: (393, 3)\n",
      "y_train shape: (916,)\n",
      "y_test shape: (393,)\n"
     ]
    }
   ],
   "source": [
    "print(\"X_train shape:\", X_train.shape)\n",
    "print(\"X_test shape:\", X_test.shape)\n",
    "print(\"y_train shape:\", y_train.shape)\n",
    "print(\"y_test shape:\", y_test.shape)\n"
   ]
  },
  {
   "cell_type": "markdown",
   "id": "9a0efd78-3bbd-4f10-adaf-b9c85485faf4",
   "metadata": {},
   "source": [
    "Zbiór danych został podzielony na 70% treningowych i 30% testowych.\n",
    "\n",
    "X_train shape: (916, 3) - oznacza, że zbiór treningowy zawiera 916 przykładów i 3 cechy (kolumny). Na tej części danych model będzie się uczył.\n",
    "\n",
    "X_test shape: (393, 3) - zbiór testowy zawiera 393 przykładów i te same 3 cechy – na tej części sprawdzimy, jak dobrze model działa na nowych, niewidzianych danych.\n",
    "\n",
    "y_train shape: (916,) - etykiety (czy ktoś przeżył – 0 lub 1) dla każdego z 916 przypadków w X_train\n",
    "\n",
    "\n",
    "y_test shape: (393,) - etykiety odpowiadające danym testowym (X_test)"
   ]
  },
  {
   "cell_type": "markdown",
   "id": "a3a3778e-8969-41a5-8444-70aaa450d664",
   "metadata": {},
   "source": [
    "### Zbadaj w zależności od kardynalności danej zmiennej czy rozkład etykiet dla poszczególnych cech w zbiorach testowych i treningowych jest równomierny."
   ]
  },
  {
   "cell_type": "code",
   "execution_count": 57,
   "id": "c65122dc-e6c8-4b34-86fb-7c7607ea5d99",
   "metadata": {},
   "outputs": [
    {
     "name": "stdout",
     "output_type": "stream",
     "text": [
      "'cabin': 37 unikalnych wartości tylko w zbiorze testowym\n",
      "CabinReduced: 0 unikalnych wartości tylko w zbiorze testowym\n",
      "'sex': 0 unikalnych wartości tylko w zbiorze testowym\n"
     ]
    }
   ],
   "source": [
    "for col in col_name:\n",
    "    unique_test = [x for x in X_test[col].unique() if x not in X_train[col].unique()]\n",
    "    print(f\"{col}: {len(unique_test)} unikalnych wartości tylko w zbiorze testowym\")"
   ]
  },
  {
   "cell_type": "markdown",
   "id": "93250358-56d3-488c-97db-4b55c557f553",
   "metadata": {},
   "source": [
    "Zmienna 'cabin' zawiera 37 unikalnych wartości tylko w zbiorze testowym. Oznacza, że model zobaczy w teście 37 nazw kabin, których nigdy wcześniej nie widział w zbiorze treningowym. Może to negatywnie wpłynąć na skuteczność predykcji, szczególnie jeśli kabina niesie ważną informację.\n",
    "\n",
    "Zmienna 'CabinReduced' oraz 'sex' – w zbiorze testowym nie pojawiły się żadne nowe wartości względem zbioru treningowego.\n",
    "Oznacza to, że model zna wszystkie możliwe kategorie, a rozkład danych jest stabilny i spójny.\n",
    "Dzięki temu obie zmienne nadają się do modelowania i powinny pozytywnie wpłynąć na jakość predykcji."
   ]
  },
  {
   "cell_type": "markdown",
   "id": "7b9972fc-34ce-4c5c-8e41-be11aba60ca6",
   "metadata": {},
   "source": [
    "### Wykonaj kodowanie zmiennych kategorycznych do zmiennych liczbowych. Wykorzystaj pętlę for i metodę enumerate().\n"
   ]
  },
  {
   "cell_type": "code",
   "execution_count": 66,
   "id": "c74d6d15-ab8f-439d-8153-094a20846aec",
   "metadata": {},
   "outputs": [
    {
     "name": "stdout",
     "output_type": "stream",
     "text": [
      "\n",
      "Słownik dla zmiennej ''cabin'':\n",
      "'E36' : 1\n",
      "'C68' : 2\n",
      "'E24' : 3\n",
      "'C22 C26' : 4\n",
      "'D38' : 5\n",
      "'B50' : 6\n",
      "'A24' : 7\n",
      "'C111' : 8\n",
      "'F' : 9\n",
      "'C6' : 10\n",
      "\n",
      "Słownik dla zmiennej 'CabinReduced':\n",
      "'E' : 1\n",
      "'C' : 2\n",
      "'D' : 3\n",
      "'B' : 4\n",
      "'A' : 5\n",
      "'F' : 6\n",
      "'T' : 7\n",
      "'G' : 8\n",
      "\n",
      "Słownik dla zmiennej ''sex'':\n",
      "'female' : 1\n",
      "'male' : 2\n"
     ]
    }
   ],
   "source": [
    "mappings = {}  \n",
    "\n",
    "for col in col_name:\n",
    "    unique_values = X_train[col].dropna().unique() #pomijam NaN\n",
    "\n",
    "    #dla zmiennej CabinReduced wartości 'NaN' zostały skrócone do 'n'\n",
    "    #wiec usuwam 'n' \n",
    "    if col == 'CabinReduced':\n",
    "        unique_values = [val for val in unique_values if val != 'n']\n",
    "\n",
    "    mapping = {}  \n",
    "\n",
    "    for idx, val in enumerate(unique_values):\n",
    "        mapping[val] = idx + 1  \n",
    "\n",
    "    mappings[col] = mapping  \n",
    "\n",
    "    print(f\"\\nSłownik dla zmiennej '{col}':\")\n",
    "    for k, v in list(mapping.items())[:10]:  \n",
    "        print(f\"'{k}' : {v}\")\n"
   ]
  },
  {
   "cell_type": "markdown",
   "id": "909efbc1-d325-468f-8046-a1d5dcab83e4",
   "metadata": {},
   "source": [
    "### Zastąp etykiety zmiennej (tu przykład dla kabina) słownikiem stworzonym w kroku 6. Do tego będzie potrzebne mapowanie."
   ]
  },
  {
   "cell_type": "code",
   "execution_count": 67,
   "id": "c6b34c6d-7782-4270-a4eb-ae080241e7a2",
   "metadata": {},
   "outputs": [
    {
     "name": "stdout",
     "output_type": "stream",
     "text": [
      "\n",
      "Zmienna: 'cabin' (zbiór treningowy):\n",
      "      'cabin'_map 'cabin'\n",
      "501          <NA>     NaN\n",
      "588          <NA>     NaN\n",
      "402          <NA>     NaN\n",
      "1193         <NA>     NaN\n",
      "686          <NA>     NaN\n",
      "\n",
      "Zmienna: 'cabin' (zbiór testowy):\n",
      "      'cabin'_map 'cabin'\n",
      "1139         <NA>     NaN\n",
      "533          <NA>     NaN\n",
      "459          <NA>     NaN\n",
      "1150         <NA>     NaN\n",
      "393          <NA>     NaN\n",
      "\n",
      "Zmienna: CabinReduced (zbiór treningowy):\n",
      "      CabinReduced_map CabinReduced\n",
      "501               <NA>            n\n",
      "588               <NA>            n\n",
      "402               <NA>            n\n",
      "1193              <NA>            n\n",
      "686               <NA>            n\n",
      "\n",
      "Zmienna: CabinReduced (zbiór testowy):\n",
      "      CabinReduced_map CabinReduced\n",
      "1139              <NA>            n\n",
      "533               <NA>            n\n",
      "459               <NA>            n\n",
      "1150              <NA>            n\n",
      "393               <NA>            n\n",
      "\n",
      "Zmienna: 'sex' (zbiór treningowy):\n",
      "      'sex'_map   'sex'\n",
      "501           1  female\n",
      "588           1  female\n",
      "402           1  female\n",
      "1193          2    male\n",
      "686           1  female\n",
      "\n",
      "Zmienna: 'sex' (zbiór testowy):\n",
      "      'sex'_map   'sex'\n",
      "1139          2    male\n",
      "533           1  female\n",
      "459           2    male\n",
      "1150          2    male\n",
      "393           2    male\n"
     ]
    }
   ],
   "source": [
    "for col in col_name:\n",
    "    map_col = f\"{col}_map\"  \n",
    "    mapping = mappings[col] \n",
    "\n",
    "    X_train[map_col] = X_train[col].map(mapping).astype('Int64')\n",
    "    X_test[map_col] = X_test[col].map(mapping).astype('Int64')\n",
    "\n",
    "    print(f\"\\nZmienna: {col} (zbiór treningowy):\")\n",
    "    print(X_train[[map_col, col]].head())\n",
    "\n",
    "    print(f\"\\nZmienna: {col} (zbiór testowy):\")\n",
    "    print(X_test[[map_col, col]].head())\n"
   ]
  },
  {
   "cell_type": "markdown",
   "id": "fcca76e4-57cc-492c-829a-a29d4ef1d862",
   "metadata": {},
   "source": [
    "### Sprawdź liczbę brakujących wartości w zmodyfikowanych zbiorach. Zapisz wyniki i skomentuj."
   ]
  },
  {
   "cell_type": "code",
   "execution_count": 68,
   "id": "0d52b440-5358-4e71-9017-9ca03ca84f2c",
   "metadata": {},
   "outputs": [
    {
     "name": "stdout",
     "output_type": "stream",
     "text": [
      "'cabin'_map → braków w train: 702, braków w test: 354\n",
      "CabinReduced_map → braków w train: 702, braków w test: 312\n",
      "'sex'_map → braków w train: 0, braków w test: 0\n"
     ]
    }
   ],
   "source": [
    "for col in col_name:\n",
    "    map_col = f\"{col}_map\"\n",
    "\n",
    "    missing_train = X_train[map_col].isna().sum()\n",
    "    missing_test = X_test[map_col].isna().sum()\n",
    "\n",
    "    print(f\"{map_col} → braków w train: {missing_train}, braków w test: {missing_test}\")\n"
   ]
  },
  {
   "cell_type": "markdown",
   "id": "d96279ca-6201-4ed6-bdeb-0227d67b428c",
   "metadata": {},
   "source": [
    "W zmiennej 'cabin'_map występuje bardzo dużo braków: 702 w treningu i 354 w teście. Oznacza to, że wiele pasażerów nie miało przypisanej kabiny, lub że niektóre kabiny w teście nie były znane z treningu.\n",
    "\n",
    "W zmiennej CabinReduced_map mamy również dużo braków, choć trochę mniej niż przy pełnej nazwie kabiny.Oznacza to, że informacja o pokładzie (np. A, B, C...) też była często niedostępna.\n",
    "\n",
    "'sex'_map mamy brak braków = dane są kompletne i w pełni gotowe do użycia."
   ]
  },
  {
   "cell_type": "markdown",
   "id": "c1b60a84-56e4-4b77-bad7-f15ec8c17a31",
   "metadata": {},
   "source": [
    "### Zastąp brakujące wartości liczbą 0. Czy jest to najlepsze wyjście?"
   ]
  },
  {
   "cell_type": "code",
   "execution_count": 69,
   "id": "3b0d2826-6b80-4da3-96a5-a16242d33a70",
   "metadata": {},
   "outputs": [
    {
     "name": "stdout",
     "output_type": "stream",
     "text": [
      "\n",
      "Zmienna: 'cabin' (zbiór treningowy):\n",
      "      'cabin'_map 'cabin'\n",
      "501             0     NaN\n",
      "588             0     NaN\n",
      "402             0     NaN\n",
      "1193            0     NaN\n",
      "686             0     NaN\n",
      "\n",
      "Zmienna: 'cabin' (zbiór testowy):\n",
      "      'cabin'_map 'cabin'\n",
      "1139            0     NaN\n",
      "533             0     NaN\n",
      "459             0     NaN\n",
      "1150            0     NaN\n",
      "393             0     NaN\n",
      "\n",
      "Zmienna: CabinReduced (zbiór treningowy):\n",
      "      CabinReduced_map CabinReduced\n",
      "501                  0            n\n",
      "588                  0            n\n",
      "402                  0            n\n",
      "1193                 0            n\n",
      "686                  0            n\n",
      "\n",
      "Zmienna: CabinReduced (zbiór testowy):\n",
      "      CabinReduced_map CabinReduced\n",
      "1139                 0            n\n",
      "533                  0            n\n",
      "459                  0            n\n",
      "1150                 0            n\n",
      "393                  0            n\n",
      "\n",
      "Zmienna: 'sex' (zbiór treningowy):\n",
      "      'sex'_map   'sex'\n",
      "501           1  female\n",
      "588           1  female\n",
      "402           1  female\n",
      "1193          2    male\n",
      "686           1  female\n",
      "\n",
      "Zmienna: 'sex' (zbiór testowy):\n",
      "      'sex'_map   'sex'\n",
      "1139          2    male\n",
      "533           1  female\n",
      "459           2    male\n",
      "1150          2    male\n",
      "393           2    male\n"
     ]
    }
   ],
   "source": [
    "for col in col_name:\n",
    "    map_col = f\"{col}_map\"\n",
    "    X_train[map_col] = X_train[map_col].fillna(0).astype(int)\n",
    "    X_test[map_col] = X_test[map_col].fillna(0).astype(int)\n",
    "    print(f\"\\nZmienna: {col} (zbiór treningowy):\")\n",
    "    print(X_train[[map_col, col]].head())\n",
    "\n",
    "    print(f\"\\nZmienna: {col} (zbiór testowy):\")\n",
    "    print(X_test[[map_col, col]].head())\n"
   ]
  },
  {
   "cell_type": "markdown",
   "id": "c0dddb29-99d7-420e-b5c8-b47b0ef4eafe",
   "metadata": {},
   "source": [
    "Model nie działa z NaN, więc uzupełnienie 0 zapewnia kompletność danych. Pozwala to zachować wszystkie wiersze – nie usuwamy wierszy z brakującymi informacjami.\n",
    "\n",
    "Jednak 0 może być mylącą wartością, bo model może uznać to za konkratną wartość, a nie jej 'brak', może to prowadzić do błędnej interpetacji.\n"
   ]
  },
  {
   "cell_type": "markdown",
   "id": "a57ea663-e1b7-4832-9f7e-560bcb7d43e0",
   "metadata": {},
   "source": [
    "### Porównaj ile unikalnych wartości jest w zbiorze treningowym, a ile w zbiorze testowym (funkcja len). Jaka jest różnica pomiędzy liczbą etykiet przed i po redukcji oraz mapowaniu? Czy cały proces, który został do tej pory wykonany może mieć wpływ na końcowy wynik predykcji i jakość modelu?"
   ]
  },
  {
   "cell_type": "code",
   "execution_count": 62,
   "id": "17a8475a-4839-4565-bb41-f8aa53669d84",
   "metadata": {},
   "outputs": [
    {
     "name": "stdout",
     "output_type": "stream",
     "text": [
      "\n",
      "Kolumna: 'cabin'\n",
      "  Trening (oryginalnie): 151 unikalnych etykiet\n",
      "  Test (oryginalnie): 71 unikalnych etykiet\n",
      "  Trening (po mapowaniu): 151\n",
      "  Test (po mapowaniu): 35\n",
      "\n",
      "Kolumna: CabinReduced\n",
      "  Trening (oryginalnie): 9 unikalnych etykiet\n",
      "  Test (oryginalnie): 8 unikalnych etykiet\n",
      "  Trening (po mapowaniu): 9\n",
      "  Test (po mapowaniu): 8\n",
      "\n",
      "Kolumna: 'sex'\n",
      "  Trening (oryginalnie): 2 unikalnych etykiet\n",
      "  Test (oryginalnie): 2 unikalnych etykiet\n",
      "  Trening (po mapowaniu): 2\n",
      "  Test (po mapowaniu): 2\n"
     ]
    }
   ],
   "source": [
    "for col in col_name:\n",
    "    map_col = f\"{col}_map\"\n",
    "\n",
    "    n_train_before = len(X_train[col].unique())\n",
    "    n_test_before = len(X_test[col].unique())\n",
    "\n",
    "    n_train_after = len(X_train[map_col].unique())\n",
    "    n_test_after = len(X_test[map_col].unique())\n",
    "\n",
    "    print(f\"\\nKolumna: {col}\")\n",
    "    print(f\"  Trening (oryginalnie): {n_train_before} unikalnych etykiet\")\n",
    "    print(f\"  Test (oryginalnie): {n_test_before} unikalnych etykiet\")\n",
    "    print(f\"  Trening (po mapowaniu): {n_train_after}\")\n",
    "    print(f\"  Test (po mapowaniu): {n_test_after}\")\n"
   ]
  },
  {
   "cell_type": "markdown",
   "id": "92b1b84e-7c6b-4c06-80ef-e5b0eda265d0",
   "metadata": {},
   "source": [
    "* 'cabin'\n",
    "\n",
    "\n",
    "Wiele kabin z testu nie pojawiło się w treningu, dlatego po mapowaniu mają wartość 0.\n",
    "Zmienna ma bardzo wysoką kardynalność i wiele nieznanych wartości w teście, co może wprowadzać błędy i szum do modelu. Lepiej jej nie używać w tej formie.\n",
    "\n",
    "* CabinReduced\n",
    "\n",
    "Rozkład etykiet jest stabilny i spójny między treningiem a testem.\n",
    "Zmienna została dobrze zakodowana, nie ma nieznanych wartości, czyli nadaje się do użycia w modelu\n",
    "\n",
    "* 'sex'\n",
    "  \n",
    "Jest to prosta, binarna zmienna (male, female) bez braków i bez różnic między zbiorami.\n",
    "Jest to bardzo dobra cecha predykcyjna – model ją w pełni rozumie."
   ]
  },
  {
   "cell_type": "markdown",
   "id": "4cdaf914-f78b-4aee-a1fa-49131dcb93f3",
   "metadata": {},
   "source": [
    "Podsumowując:\n",
    "\n",
    "Dzięki mapowaniu tekstów na liczby model w ogóle może zrozumieć dane. Zastąpienie braków 0 zapobiega błędom działania modelu, ale niesie ryzyko błędnej interpretacji, jeśli 0 oznacza coś innego niż „brak”. Uproszczenie zmiennej cabin do CabinReduced zmniejszyło kardynalność i pomogło modelowi lepiej generalizować. Pozostawienie oryginalnej cabin mogłoby prowadzić do overfittingu i złej jakości predykcji, zwłaszcza gdy w teście pojawiały się nowe kabiny.\n",
    "\n",
    "Cały proces preprocessingowy ma kluczowe znaczenie – poprawił jakość danych, wyeliminował problemy z brakami, zmniejszył ryzyko błędów predykcji i przygotował dane do uczenia."
   ]
  }
 ],
 "metadata": {
  "kernelspec": {
   "display_name": "Python (DataScience)",
   "language": "python",
   "name": "datascience"
  },
  "language_info": {
   "codemirror_mode": {
    "name": "ipython",
    "version": 3
   },
   "file_extension": ".py",
   "mimetype": "text/x-python",
   "name": "python",
   "nbconvert_exporter": "python",
   "pygments_lexer": "ipython3",
   "version": "3.11.11"
  }
 },
 "nbformat": 4,
 "nbformat_minor": 5
}
