{
 "cells": [
  {
   "cell_type": "markdown",
   "id": "8dfb2a1c-f325-492f-b097-8cf9f0d6e2f5",
   "metadata": {},
   "source": [
    "<h1 align=\"center\">\n",
    "Inżynieria cech - data split</h1>\n",
    "<h2 align=\"center\">Dominik Sakłaski, 415120</h2>\n"
   ]
  },
  {
   "cell_type": "markdown",
   "id": "24d6d9bb-b30c-4d3c-ac00-96ff9d106edd",
   "metadata": {},
   "source": [
    "#### Załadowanie bibliotek "
   ]
  },
  {
   "cell_type": "code",
   "execution_count": 1,
   "id": "8638c807-62ee-4cde-b832-1ff0225ea039",
   "metadata": {},
   "outputs": [],
   "source": [
    "import pandas as pd\n",
    "from sklearn.model_selection import train_test_split"
   ]
  },
  {
   "cell_type": "markdown",
   "id": "43e2ba71-eda8-4560-aa9a-dd14fa9642aa",
   "metadata": {},
   "source": [
    "#### 1.     Wczytaj końcowy i przetworzony zbiór danych Titanic z poprzednich zajęć."
   ]
  },
  {
   "cell_type": "code",
   "execution_count": 2,
   "id": "bfa04f7d-914b-4778-8528-b8398594e68d",
   "metadata": {},
   "outputs": [
    {
     "data": {
      "text/html": [
       "<div>\n",
       "<style scoped>\n",
       "    .dataframe tbody tr th:only-of-type {\n",
       "        vertical-align: middle;\n",
       "    }\n",
       "\n",
       "    .dataframe tbody tr th {\n",
       "        vertical-align: top;\n",
       "    }\n",
       "\n",
       "    .dataframe thead th {\n",
       "        text-align: right;\n",
       "    }\n",
       "</style>\n",
       "<table border=\"1\" class=\"dataframe\">\n",
       "  <thead>\n",
       "    <tr style=\"text-align: right;\">\n",
       "      <th></th>\n",
       "      <th>pclass</th>\n",
       "      <th>survived</th>\n",
       "      <th>name</th>\n",
       "      <th>sex</th>\n",
       "      <th>age</th>\n",
       "      <th>sibsp</th>\n",
       "      <th>parch</th>\n",
       "      <th>ticket</th>\n",
       "      <th>fare</th>\n",
       "      <th>cabin</th>\n",
       "      <th>embarked</th>\n",
       "      <th>boat</th>\n",
       "      <th>body</th>\n",
       "      <th>home.dest</th>\n",
       "      <th>CabinReduced</th>\n",
       "    </tr>\n",
       "  </thead>\n",
       "  <tbody>\n",
       "    <tr>\n",
       "      <th>0</th>\n",
       "      <td>1</td>\n",
       "      <td>1</td>\n",
       "      <td>Allen, Miss. Elisabeth Walton</td>\n",
       "      <td>female</td>\n",
       "      <td>29.0000</td>\n",
       "      <td>0</td>\n",
       "      <td>0</td>\n",
       "      <td>24160</td>\n",
       "      <td>211.3375</td>\n",
       "      <td>B5</td>\n",
       "      <td>S</td>\n",
       "      <td>2</td>\n",
       "      <td>NaN</td>\n",
       "      <td>St Louis, MO</td>\n",
       "      <td>B</td>\n",
       "    </tr>\n",
       "    <tr>\n",
       "      <th>1</th>\n",
       "      <td>1</td>\n",
       "      <td>1</td>\n",
       "      <td>Allison, Master. Hudson Trevor</td>\n",
       "      <td>male</td>\n",
       "      <td>0.9167</td>\n",
       "      <td>1</td>\n",
       "      <td>2</td>\n",
       "      <td>113781</td>\n",
       "      <td>151.5500</td>\n",
       "      <td>C22 C26</td>\n",
       "      <td>S</td>\n",
       "      <td>11</td>\n",
       "      <td>NaN</td>\n",
       "      <td>Montreal, PQ / Chesterville, ON</td>\n",
       "      <td>C</td>\n",
       "    </tr>\n",
       "    <tr>\n",
       "      <th>2</th>\n",
       "      <td>1</td>\n",
       "      <td>0</td>\n",
       "      <td>Allison, Miss. Helen Loraine</td>\n",
       "      <td>female</td>\n",
       "      <td>2.0000</td>\n",
       "      <td>1</td>\n",
       "      <td>2</td>\n",
       "      <td>113781</td>\n",
       "      <td>151.5500</td>\n",
       "      <td>C22 C26</td>\n",
       "      <td>S</td>\n",
       "      <td>NaN</td>\n",
       "      <td>NaN</td>\n",
       "      <td>Montreal, PQ / Chesterville, ON</td>\n",
       "      <td>C</td>\n",
       "    </tr>\n",
       "    <tr>\n",
       "      <th>3</th>\n",
       "      <td>1</td>\n",
       "      <td>0</td>\n",
       "      <td>Allison, Mr. Hudson Joshua Creighton</td>\n",
       "      <td>male</td>\n",
       "      <td>30.0000</td>\n",
       "      <td>1</td>\n",
       "      <td>2</td>\n",
       "      <td>113781</td>\n",
       "      <td>151.5500</td>\n",
       "      <td>C22 C26</td>\n",
       "      <td>S</td>\n",
       "      <td>NaN</td>\n",
       "      <td>135.0</td>\n",
       "      <td>Montreal, PQ / Chesterville, ON</td>\n",
       "      <td>C</td>\n",
       "    </tr>\n",
       "    <tr>\n",
       "      <th>4</th>\n",
       "      <td>1</td>\n",
       "      <td>0</td>\n",
       "      <td>Allison, Mrs. Hudson J C (Bessie Waldo Daniels)</td>\n",
       "      <td>female</td>\n",
       "      <td>25.0000</td>\n",
       "      <td>1</td>\n",
       "      <td>2</td>\n",
       "      <td>113781</td>\n",
       "      <td>151.5500</td>\n",
       "      <td>C22 C26</td>\n",
       "      <td>S</td>\n",
       "      <td>NaN</td>\n",
       "      <td>NaN</td>\n",
       "      <td>Montreal, PQ / Chesterville, ON</td>\n",
       "      <td>C</td>\n",
       "    </tr>\n",
       "    <tr>\n",
       "      <th>5</th>\n",
       "      <td>1</td>\n",
       "      <td>1</td>\n",
       "      <td>Anderson, Mr. Harry</td>\n",
       "      <td>male</td>\n",
       "      <td>48.0000</td>\n",
       "      <td>0</td>\n",
       "      <td>0</td>\n",
       "      <td>19952</td>\n",
       "      <td>26.5500</td>\n",
       "      <td>E12</td>\n",
       "      <td>S</td>\n",
       "      <td>3</td>\n",
       "      <td>NaN</td>\n",
       "      <td>New York, NY</td>\n",
       "      <td>E</td>\n",
       "    </tr>\n",
       "    <tr>\n",
       "      <th>6</th>\n",
       "      <td>1</td>\n",
       "      <td>1</td>\n",
       "      <td>Andrews, Miss. Kornelia Theodosia</td>\n",
       "      <td>female</td>\n",
       "      <td>63.0000</td>\n",
       "      <td>1</td>\n",
       "      <td>0</td>\n",
       "      <td>13502</td>\n",
       "      <td>77.9583</td>\n",
       "      <td>D7</td>\n",
       "      <td>S</td>\n",
       "      <td>10</td>\n",
       "      <td>NaN</td>\n",
       "      <td>Hudson, NY</td>\n",
       "      <td>D</td>\n",
       "    </tr>\n",
       "    <tr>\n",
       "      <th>7</th>\n",
       "      <td>1</td>\n",
       "      <td>0</td>\n",
       "      <td>Andrews, Mr. Thomas Jr</td>\n",
       "      <td>male</td>\n",
       "      <td>39.0000</td>\n",
       "      <td>0</td>\n",
       "      <td>0</td>\n",
       "      <td>112050</td>\n",
       "      <td>0.0000</td>\n",
       "      <td>A36</td>\n",
       "      <td>S</td>\n",
       "      <td>NaN</td>\n",
       "      <td>NaN</td>\n",
       "      <td>Belfast, NI</td>\n",
       "      <td>A</td>\n",
       "    </tr>\n",
       "    <tr>\n",
       "      <th>8</th>\n",
       "      <td>1</td>\n",
       "      <td>1</td>\n",
       "      <td>Appleton, Mrs. Edward Dale (Charlotte Lamson)</td>\n",
       "      <td>female</td>\n",
       "      <td>53.0000</td>\n",
       "      <td>2</td>\n",
       "      <td>0</td>\n",
       "      <td>11769</td>\n",
       "      <td>51.4792</td>\n",
       "      <td>C101</td>\n",
       "      <td>S</td>\n",
       "      <td>D</td>\n",
       "      <td>NaN</td>\n",
       "      <td>Bayside, Queens, NY</td>\n",
       "      <td>C</td>\n",
       "    </tr>\n",
       "    <tr>\n",
       "      <th>9</th>\n",
       "      <td>1</td>\n",
       "      <td>0</td>\n",
       "      <td>Artagaveytia, Mr. Ramon</td>\n",
       "      <td>male</td>\n",
       "      <td>71.0000</td>\n",
       "      <td>0</td>\n",
       "      <td>0</td>\n",
       "      <td>PC 17609</td>\n",
       "      <td>49.5042</td>\n",
       "      <td>NaN</td>\n",
       "      <td>C</td>\n",
       "      <td>NaN</td>\n",
       "      <td>22.0</td>\n",
       "      <td>Montevideo, Uruguay</td>\n",
       "      <td>n</td>\n",
       "    </tr>\n",
       "  </tbody>\n",
       "</table>\n",
       "</div>"
      ],
      "text/plain": [
       "   pclass  survived                                             name     sex  \\\n",
       "0       1         1                    Allen, Miss. Elisabeth Walton  female   \n",
       "1       1         1                   Allison, Master. Hudson Trevor    male   \n",
       "2       1         0                     Allison, Miss. Helen Loraine  female   \n",
       "3       1         0             Allison, Mr. Hudson Joshua Creighton    male   \n",
       "4       1         0  Allison, Mrs. Hudson J C (Bessie Waldo Daniels)  female   \n",
       "5       1         1                              Anderson, Mr. Harry    male   \n",
       "6       1         1                Andrews, Miss. Kornelia Theodosia  female   \n",
       "7       1         0                           Andrews, Mr. Thomas Jr    male   \n",
       "8       1         1    Appleton, Mrs. Edward Dale (Charlotte Lamson)  female   \n",
       "9       1         0                          Artagaveytia, Mr. Ramon    male   \n",
       "\n",
       "       age  sibsp  parch    ticket      fare    cabin embarked boat   body  \\\n",
       "0  29.0000      0      0     24160  211.3375       B5        S    2    NaN   \n",
       "1   0.9167      1      2    113781  151.5500  C22 C26        S   11    NaN   \n",
       "2   2.0000      1      2    113781  151.5500  C22 C26        S  NaN    NaN   \n",
       "3  30.0000      1      2    113781  151.5500  C22 C26        S  NaN  135.0   \n",
       "4  25.0000      1      2    113781  151.5500  C22 C26        S  NaN    NaN   \n",
       "5  48.0000      0      0     19952   26.5500      E12        S    3    NaN   \n",
       "6  63.0000      1      0     13502   77.9583       D7        S   10    NaN   \n",
       "7  39.0000      0      0    112050    0.0000      A36        S  NaN    NaN   \n",
       "8  53.0000      2      0     11769   51.4792     C101        S    D    NaN   \n",
       "9  71.0000      0      0  PC 17609   49.5042      NaN        C  NaN   22.0   \n",
       "\n",
       "                         home.dest CabinReduced  \n",
       "0                     St Louis, MO            B  \n",
       "1  Montreal, PQ / Chesterville, ON            C  \n",
       "2  Montreal, PQ / Chesterville, ON            C  \n",
       "3  Montreal, PQ / Chesterville, ON            C  \n",
       "4  Montreal, PQ / Chesterville, ON            C  \n",
       "5                     New York, NY            E  \n",
       "6                       Hudson, NY            D  \n",
       "7                      Belfast, NI            A  \n",
       "8              Bayside, Queens, NY            C  \n",
       "9              Montevideo, Uruguay            n  "
      ]
     },
     "execution_count": 2,
     "metadata": {},
     "output_type": "execute_result"
    }
   ],
   "source": [
    "data = pd.read_csv('titanic_data.csv')\n",
    "data.head(10)"
   ]
  },
  {
   "cell_type": "markdown",
   "id": "c27ab6d2-df0a-42f9-8121-4a8dada32a0e",
   "metadata": {},
   "source": [
    "#### 2.     Zapoznaj się z funkcja train_test_split wchodzącą w skład biblioteki Scikit-learn. Zapisz swoje obserwacje."
   ]
  },
  {
   "cell_type": "markdown",
   "id": "dd0f5a8b-aea6-495f-b944-ad6ec10c8615",
   "metadata": {},
   "source": [
    "Funkcja **`train_test_split`** pochodzi z biblioteki sklearn.model_selection. Umożliwia łatwe podzielenie zbioru danych na część `treningową` i `testową`.\n",
    "\n",
    "- **test_size**: określa procent danych, który ma trafić do zbioru testowego (np. test_size=0.3 oznacza, że 30% danych pójdzie do testu, a 70% do treningu.)\n",
    "\n",
    "- **random_state**: ustala „ziarno” losowania – żeby podział był zawsze taki sam.\n",
    "\n",
    "- **shuffle**: określa, czy dane mają być przetasowane przed podziałem; ustawienie shuffle=False może być przydatne np. w analizach czasowych, gdzie kolejność ma znaczenie.\n",
    "\n",
    "- **stratify**: można podać kolumnę, aby zachować proporcje klas w zbiorach; ustawiając stratify=y, zapewnia się, by podział odzwierciedlał rozkład klas w oryginalnych danych; stosujemy, gdy: mamy dane klasyfikacyjne (survived: 0-zginął, 1-przeżył), klasy są niezbalansowane (jedna klasa występuje częściej niż druga,np. 80% vs 10%), zależy nam na uczciwym i reprezentatywnym podziale danych."
   ]
  },
  {
   "cell_type": "markdown",
   "id": "f0c54119-b0e0-41ef-ace5-37b91c5ead1e",
   "metadata": {},
   "source": [
    "#### 3.     Stwórz zmienną do której zapiszesz listę z nazwami trzech kolumn – kabiny, zredukowane kabiny oraz płeć. Nazwij ją col_name."
   ]
  },
  {
   "cell_type": "code",
   "execution_count": 3,
   "id": "084b9c0f-138d-4979-9e23-220ddff1984e",
   "metadata": {},
   "outputs": [],
   "source": [
    "col_name = ['cabin', 'CabinReduced', 'sex']"
   ]
  },
  {
   "cell_type": "markdown",
   "id": "474a29ca-2a65-4d09-b60d-695d8de09f14",
   "metadata": {},
   "source": [
    "#### 4.     Podziel zbiór na **treningowy** i **testowy** używając `train_test_split`.\n",
    "\n",
    "Jako zmienną niezależną ustaw dane składające się z kolumn o nazwach zapisanych w col_name. Jako zmienną zależną ustaw kolumnę mówiącą o tym czy ktoś przeżył czy nie.  Ustaw rozmiar zbioru testowego na 20 lub 30% całości. Parametr random_state ustaw jako 0.\n",
    "\n",
    "Wyświetl wymiary zbiorów X_train, X_test, y_train, y_test używając .shape() i skomentuj wyniki."
   ]
  },
  {
   "cell_type": "code",
   "execution_count": 4,
   "id": "5c4aedd2-5d18-449f-911c-d2cff488dce5",
   "metadata": {},
   "outputs": [
    {
     "name": "stdout",
     "output_type": "stream",
     "text": [
      "X_train shape: (916, 3)\n",
      "X_test shape: (393, 3)\n",
      "y_train shape: (916,)\n",
      "y_test shape: (393,)\n"
     ]
    }
   ],
   "source": [
    "#zmienna niezależna: wybrane kolumny (cabina, cabinReduced, sex)\n",
    "X = data[col_name]  \n",
    "#zmienna zależna : info czy pasażer przeżył\n",
    "y = data['survived'] \n",
    "\n",
    "X_train, X_test, y_train, y_test = train_test_split(\n",
    "    X, y,                   # dane wejściowe i etykiety\n",
    "    test_size=0.3,         # 30% danych trafi do zbioru testowego\n",
    "    random_state=0         # ziarno\n",
    ")\n",
    "\n",
    "# .shape służy do sprawdzenia wymiarów (kształtu) zbioru danych\n",
    "print(\"X_train shape:\", X_train.shape)  \n",
    "print(\"X_test shape:\", X_test.shape)\n",
    "print(\"y_train shape:\", y_train.shape)\n",
    "print(\"y_test shape:\", y_test.shape)"
   ]
  },
  {
   "cell_type": "markdown",
   "id": "add33eda-e96f-4e2f-961d-5b0b4bfb00a9",
   "metadata": {},
   "source": [
    "Zbiór danych został skutecznie podzielony na zbiór treningowy (70%) i testowy (30%) zgodnie z parametrem test_size=0.3. W zbiorze treningowym znajduje się 916 rekordów, a w testowym – 393. Każdy rekord posiada 3 cechy wejściowe: cabin, CabinReduced oraz sex.\n",
    "\n",
    "- X_train shape: (916, 3) – zbiór treningowy zawiera 916 próbek (wierszy) i 3 cechy (kolumny)\n",
    "\n",
    "- X_test shape: (393, 3) – zbiór testowy zawiera 393 próbki (30% danych), również z 3 cechami.\n",
    "\n",
    "- y_train shape: (916,) – zmienna zależna (czy ktoś przeżył) dla zbioru treningowego ma 916 wartości.\n",
    "\n",
    "- y_test shape: (393,) – zmienna zależna dla zbioru testowego ma 393 wartości."
   ]
  },
  {
   "cell_type": "markdown",
   "id": "0286536a-bc8b-4c0b-8103-c7f499cc910f",
   "metadata": {},
   "source": [
    "#### 5.    Zbadaj w zależności od kardynalności danej zmiennej czy rozkład etykiet dla poszczególnych cech w zbiorach testowych i treningowych jest równomierny.\n",
    "\n",
    "Unique_test = [x for x in X_test.ZMIENNA.unique() if x not in X_train.ZMIENNA.unique()]\n",
    "\n",
    "len(unique)"
   ]
  },
  {
   "cell_type": "code",
   "execution_count": 5,
   "id": "f18ab9a7-492e-4369-bbe0-b46fda5b9c83",
   "metadata": {},
   "outputs": [
    {
     "name": "stdout",
     "output_type": "stream",
     "text": [
      "Zmienna: cabin\n",
      "Liczba unikalnych etykiet tylko w zbiorze testowym: 37\n",
      "Etykiety: [nan, 'E12', 'C104', 'A31', 'D11', 'D48', 'D10 D12', 'B38', 'D45', 'C50', 'C31', 'B82 B84', 'A32', 'C53', 'B10', 'C70', 'A23', 'C106', 'C46', 'E58', 'B11', 'F E69', 'B80', 'E39 E41', 'D22', 'E40', 'A19', 'C32', 'B79', 'C45', 'B22', 'B39', 'C47', 'B101', 'A7', 'E52', 'F38']\n",
      "\n",
      "Zmienna: CabinReduced\n",
      "Liczba unikalnych etykiet tylko w zbiorze testowym: 0\n",
      "Etykiety: []\n",
      "\n",
      "Zmienna: sex\n",
      "Liczba unikalnych etykiet tylko w zbiorze testowym: 0\n",
      "Etykiety: []\n",
      "\n"
     ]
    }
   ],
   "source": [
    "for col in col_name:\n",
    "    unique_test = [x for x in X_test[col].unique() if x not in X_train[col].unique()]\n",
    "    print(f\"Zmienna: {col}\")\n",
    "    print(f\"Liczba unikalnych etykiet tylko w zbiorze testowym: {len(unique_test)}\")\n",
    "    print(f\"Etykiety: {unique_test}\\n\")"
   ]
  },
  {
   "cell_type": "markdown",
   "id": "7d75c92a-b3e2-479c-b8e8-921adbdd783d",
   "metadata": {},
   "source": [
    "##### Zmienna **cabin**:\n",
    "- W testowym zbiorze znajduje się 37 etykiet, które nie występują w treningowym. To pokazuje, że rozkład nie jest równomierny – duża kardynalność (187 unikalnych wartości) prowadzi do tego, że model w testowym zobaczy zupełnie nowe etykiety.\n",
    "\n",
    "##### Zmienne **CabinReduced** i **sex**:\n",
    "- Wynik jest równy 0, czyli wszystkie etykiety występujące w zbiorze testowym były już wcześniej w zbiorze treningowym. Jest to wynikiem niskiej kardynalności tych etykiet - to oznacza, że rozkład jest równomierny."
   ]
  },
  {
   "cell_type": "markdown",
   "id": "d486b5d7-398b-48fa-937c-424b5991db23",
   "metadata": {},
   "source": [
    "##### Uwaga! PUNKTY 6 I 7 należy wykonać osobno dla zmiennej kabina, kabina zredukowana, płeć. Wszystkie wyniki mają zostać zapisane zarówno w zbiorze testowym jak i treningowym.\n"
   ]
  },
  {
   "cell_type": "markdown",
   "id": "9be38902-1cdd-4680-a828-5e0498bfd6fa",
   "metadata": {},
   "source": [
    "#### 6.     Wykonaj kodowanie zmiennych kategorycznych do zmiennych liczbowych. Wykorzystaj pętlę for i metodę enumerate(). Wynik powinien być podobny do tego na obrazku poniżej \n",
    "\n",
    "Przykład:\n",
    "\n",
    "'E24' : 3,\n",
    "\n",
    "'C22' : 4,\n",
    "\n",
    "...\n",
    "\n",
    "'B45' : 13"
   ]
  },
  {
   "cell_type": "code",
   "execution_count": 6,
   "id": "c88169d0-8cc8-446a-a4ee-14ec0cea5ece",
   "metadata": {},
   "outputs": [
    {
     "name": "stdout",
     "output_type": "stream",
     "text": [
      "\n",
      "Słownik dla zmiennej 'cabin':\n",
      "'E36' : 1\n",
      "'C68' : 2\n",
      "'E24' : 3\n",
      "'C22 C26' : 4\n",
      "'D38' : 5\n",
      "'B50' : 6\n",
      "'A24' : 7\n",
      "'C111' : 8\n",
      "'F' : 9\n",
      "'C6' : 10\n",
      "\n",
      "Słownik dla zmiennej 'CabinReduced':\n",
      "'E' : 1\n",
      "'C' : 2\n",
      "'D' : 3\n",
      "'B' : 4\n",
      "'A' : 5\n",
      "'F' : 6\n",
      "'T' : 7\n",
      "'G' : 8\n",
      "\n",
      "Słownik dla zmiennej 'sex':\n",
      "'female' : 1\n",
      "'male' : 2\n"
     ]
    }
   ],
   "source": [
    "mappings = {}  # słowniki dla wszystkich zmiennych\n",
    "\n",
    "for col in ['cabin', 'CabinReduced', 'sex']:\n",
    "    labels = X_train[col].dropna().unique()  # unikalne etykiety bez NaN\n",
    "\n",
    "    # Dodatkowe czyszczenie dla CabinReduced\n",
    "    if col == 'CabinReduced':\n",
    "        labels = [val for val in labels if val != 'n']\n",
    "\n",
    "    mapping = {label: idx + 1 for idx, label in enumerate(labels)}  # tworzenie słownika\n",
    "    mappings[col] = mapping  # zapisz słownik do mapowania\n",
    "\n",
    "    # Wyświetlenie słownika (ograniczenie do 10 wpisów)\n",
    "    print(f\"\\nSłownik dla zmiennej '{col}':\")\n",
    "    for k, v in list(mapping.items())[:10]:\n",
    "        print(f\"'{k}' : {v}\")\n"
   ]
  },
  {
   "cell_type": "markdown",
   "id": "d81e2edd-2eae-49f7-acdd-e70281d791e2",
   "metadata": {},
   "source": [
    "#### 7.     Zastąp etykiety zmiennej (tu przykład dla kabina) słownikiem stworzonym w kroku 6. Do tego będzie potrzebne mapowanie.\n",
    "\n",
    "Przykładowy wynik dla zmiennej Kabina:\n",
    "\n",
    "         Kabina_map              Kabina\n",
    "\n",
    "234                 0                      NaN\n",
    "\n",
    "345                 0                      NaN\n",
    "\n",
    "344                 13                   B45\n",
    "\n",
    "..                      ..                      .."
   ]
  },
  {
   "cell_type": "code",
   "execution_count": 7,
   "id": "ad5ddc1a-b970-486d-ad1d-63a127970d7b",
   "metadata": {},
   "outputs": [
    {
     "name": "stdout",
     "output_type": "stream",
     "text": [
      "\n",
      "Zmienna: cabin (zbiór treningowy):\n",
      "      cabin_map cabin\n",
      "501        <NA>   NaN\n",
      "588        <NA>   NaN\n",
      "402        <NA>   NaN\n",
      "1193       <NA>   NaN\n",
      "686        <NA>   NaN\n",
      "\n",
      "Zmienna: cabin (zbiór testowy):\n",
      "      cabin_map cabin\n",
      "1139       <NA>   NaN\n",
      "533        <NA>   NaN\n",
      "459        <NA>   NaN\n",
      "1150       <NA>   NaN\n",
      "393        <NA>   NaN\n",
      "\n",
      "Zmienna: CabinReduced (zbiór treningowy):\n",
      "      CabinReduced_map CabinReduced\n",
      "501               <NA>            n\n",
      "588               <NA>            n\n",
      "402               <NA>            n\n",
      "1193              <NA>            n\n",
      "686               <NA>            n\n",
      "\n",
      "Zmienna: CabinReduced (zbiór testowy):\n",
      "      CabinReduced_map CabinReduced\n",
      "1139              <NA>            n\n",
      "533               <NA>            n\n",
      "459               <NA>            n\n",
      "1150              <NA>            n\n",
      "393               <NA>            n\n",
      "\n",
      "Zmienna: sex (zbiór treningowy):\n",
      "      sex_map     sex\n",
      "501         1  female\n",
      "588         1  female\n",
      "402         1  female\n",
      "1193        2    male\n",
      "686         1  female\n",
      "\n",
      "Zmienna: sex (zbiór testowy):\n",
      "      sex_map     sex\n",
      "1139        2    male\n",
      "533         1  female\n",
      "459         2    male\n",
      "1150        2    male\n",
      "393         2    male\n"
     ]
    }
   ],
   "source": [
    "for col in ['cabin', 'CabinReduced', 'sex']:\n",
    "    map_col = f\"{col}_map\"\n",
    "    mapping = mappings[col]  # pobierz słownik z kroku 6\n",
    "\n",
    "    # Zastosuj mapowanie do zbioru treningowego i testowego\n",
    "    X_train[map_col] = X_train[col].map(mapping).astype('Int64')\n",
    "    X_test[map_col] = X_test[col].map(mapping).astype('Int64')\n",
    "\n",
    "    print(f\"\\nZmienna: {col} (zbiór treningowy):\")\n",
    "    print(X_train[[map_col, col]].head())\n",
    "\n",
    "    print(f\"\\nZmienna: {col} (zbiór testowy):\")\n",
    "    print(X_test[[map_col, col]].head())\n"
   ]
  },
  {
   "cell_type": "markdown",
   "id": "83c85ec9-44bd-49ed-bde1-1f27d9749451",
   "metadata": {},
   "source": [
    "##### **Mapowanie**:\n",
    "To przypisanie jednej wartości do innej — najczęściej używane przy zamianie wartości tekstowych (kategorycznych) na wartości liczbowe, które można łatwo przetwarzać matematycznie.\n",
    "\n",
    "Dlaczego to robimy? Zalety?\n",
    "\n",
    "* Modele uczenia maszynowego nie potrafią analizować danych typu tekst (np. „female”, „male”).\n",
    "* Potrzebujemy reprezentacji liczbowej.\n",
    "* Mapowanie jest łatwe, szybkie i skuteczne – tworzy nową kolumnę, bez zmieniania oryginalnej.\n",
    "* Przekształca dane do postaci zrozumiałej dla algorytmów ML.\n",
    "* Pozwala zachować porządek i spójność (np. jedna wartość zawsze odpowiada jednej liczbie)."
   ]
  },
  {
   "cell_type": "markdown",
   "id": "704ca879-3725-4d0f-ae54-3ecf3e245399",
   "metadata": {},
   "source": [
    "#### 8.     Sprawdź liczbę brakujących wartości w zmodyfikowanych zbiorach. Zapisz wyniki i skomentuj.\r\n"
   ]
  },
  {
   "cell_type": "code",
   "execution_count": 8,
   "id": "6b0d7914-1f4b-4fe5-b75c-3a2a157a457e",
   "metadata": {},
   "outputs": [
    {
     "name": "stdout",
     "output_type": "stream",
     "text": [
      "Braki danych w X_train:\n",
      " cabin               702\n",
      "CabinReduced          0\n",
      "sex                   0\n",
      "cabin_map           702\n",
      "CabinReduced_map    702\n",
      "sex_map               0\n",
      "dtype: int64\n",
      "\n",
      "Braki danych w X_test:\n",
      " cabin               312\n",
      "CabinReduced          0\n",
      "sex                   0\n",
      "cabin_map           354\n",
      "CabinReduced_map    312\n",
      "sex_map               0\n",
      "dtype: int64\n"
     ]
    }
   ],
   "source": [
    "print(\"Braki danych w X_train:\\n\", X_train.isnull().sum())\n",
    "print(\"\\nBraki danych w X_test:\\n\", X_test.isnull().sum())"
   ]
  },
  {
   "cell_type": "markdown",
   "id": "4ba36c04-0ee6-424f-8e02-940a2c26c3e1",
   "metadata": {},
   "source": [
    "- W kolumnie cabin nadal występuje 702 braków danych w zbiorze treningowym oraz 312 w zbiorze testowym. Jest to oryginalna cecha, która nie została przekształcona – zawiera wartości typu NaN pochodzące bezpośrednio z danych wejściowych.\n",
    "- W kolumnie cabin_map występuje 702 braków w X_train oraz 354 w X_test. Oznacza to, że część etykiet w kolumnie cabin nie miała swojego odpowiednika w słowniku mapującym lub była NaN. W X_test mogą pojawiać się etykiety, które nie były obecne w X_train, dlatego nie zostały odwzorowane.\n",
    "- W kolumnie CabinReduced braków nie ma (0 w obu zbiorach), ponieważ wszystkie wartości zostały przekształcone do pojedynczych liter lub wypełnione.\n",
    "- W kolumnie CabinReduced_map pojawia się 702 braków w X_train i 312 w X_test, co sugeruje, że mimo iż CabinReduced nie zawiera już NaN, to w wyniku mapowania niektóre wartości nie zostały odwzorowane. To może oznaczać, że w danych znalazły się nowe etykiety  ('n', np. po konwersji NaN do 'n'), które nie zostały ujęte w słowniku.\n",
    "- W kolumnach sex i sex_map braków nie ma – dane są kompletne, a etykiety tekstowe zostały prawidłowo zamienione na liczby (1, 2) zarówno w zbiorze treningowym, jak i testowym.\n",
    "\n",
    "Mapowanie nie eliminuje braków danych – jeśli oryginalna zmienna zawierała NaN lub nieznane etykiety (np. nowe wartości w zbiorze testowym), to efekt mapowania również będzie zawierał NaN."
   ]
  },
  {
   "cell_type": "markdown",
   "id": "b49ae933-81fa-4d3c-a8ed-24bb8f56cab0",
   "metadata": {},
   "source": [
    "#### 9.     Zastąp brakujące wartości liczbą 0. Czy jest to najlepsze wyjście?"
   ]
  },
  {
   "cell_type": "code",
   "execution_count": 9,
   "id": "46176fc3-05d2-4697-b07a-d022b2c15546",
   "metadata": {},
   "outputs": [
    {
     "name": "stdout",
     "output_type": "stream",
     "text": [
      "Braki w X_train po uzupełnieniu:\n",
      " cabin               0\n",
      "CabinReduced        0\n",
      "sex                 0\n",
      "cabin_map           0\n",
      "CabinReduced_map    0\n",
      "sex_map             0\n",
      "dtype: int64\n",
      "\n",
      "Braki w X_test po uzupełnieniu:\n",
      " cabin               0\n",
      "CabinReduced        0\n",
      "sex                 0\n",
      "cabin_map           0\n",
      "CabinReduced_map    0\n",
      "sex_map             0\n",
      "dtype: int64\n"
     ]
    }
   ],
   "source": [
    "X_train_filled = X_train.fillna(0)\n",
    "X_test_filled = X_test.fillna(0)\n",
    "\n",
    "print(\"Braki w X_train po uzupełnieniu:\\n\", X_train_filled\n",
    "      .isnull().sum())\n",
    "print(\"\\nBraki w X_test po uzupełnieniu:\\n\", X_test_filled\n",
    "      .isnull().sum())\n"
   ]
  },
  {
   "cell_type": "markdown",
   "id": "c218f669-07f5-40c3-9bae-94dc800a7e0c",
   "metadata": {},
   "source": [
    "Zastąpienie braków 0 jest dobrym rozwiązaniem tymczasowym lub gdy brak danych sam w sobie niesie informację.\n",
    "\n",
    "**Zalety**:\n",
    "\n",
    "- Pozwala natychmiast użyć danych w modelach ML, które nie akceptują NaN.\n",
    "- W przypadku danych zakodowanych liczbowo (np. cabin_map, sex_map) wartość 0 może symbolizować brak danych.\n",
    "\n",
    "**Wady**:\n",
    "\n",
    "- Może wprowadzać szum do modelu – 0 może być zinterpretowane jako „prawdziwa” wartość, co może wpłynąć na jakość predykcji.\n",
    "- W przypadku zmiennych liczbowych (np. wiek, cena) lepszym podejściem może być użycie średniej, mediany lub imputacji modelowej.\n",
    "- W przypadku cech kategorycznych – warto rozważyć oddzielną etykietę, np. „Brak informacji” (missing, Unknown)."
   ]
  },
  {
   "cell_type": "markdown",
   "id": "5c7e8ffc-c3d0-4a7e-88b7-2b570711d5f2",
   "metadata": {},
   "source": [
    "#### 10. Porównaj ile unikalnych wartości jest w zbiorze treningowym, a ile w zbiorze testowym (funkcja len). Jaka jest różnica pomiędzy liczbą etykiet przed i po redukcji oraz mapowaniu? Czy cały proces, który został do tej pory wykonany może mieć wpływ na końcowy wynik predykcji i jakość modelu?"
   ]
  },
  {
   "cell_type": "code",
   "execution_count": 10,
   "id": "58d14822-9238-479c-bd95-083d90c15600",
   "metadata": {},
   "outputs": [
    {
     "name": "stdout",
     "output_type": "stream",
     "text": [
      "Unikalne wartości cabin w X_train: 151\n",
      "Unikalne wartości cabin w X_test: 71\n",
      "Unikalne wartości CabinReduced w X_train: 9\n",
      "Unikalne wartości CabinReduced w X_test: 8\n",
      "Unikalne wartości sex w X_train: 2\n",
      "Unikalne wartości sex w X_test: 2\n"
     ]
    }
   ],
   "source": [
    "# dla kolumny 'cabin'\n",
    "print(\"Unikalne wartości cabin w X_train:\", len(X_train['cabin']\n",
    "                                                .unique()))\n",
    "print(\"Unikalne wartości cabin w X_test:\", len(X_test['cabin']\n",
    "                                               .unique()))\n",
    "\n",
    "# dla kolumny 'CabinReduced'\n",
    "print(\"Unikalne wartości CabinReduced w X_train:\", len(X_train['CabinReduced']\n",
    "                                                       .unique()))\n",
    "print(\"Unikalne wartości CabinReduced w X_test:\", len(X_test['CabinReduced']\n",
    "                                                      .unique()))\n",
    "\n",
    "# dla kolumny 'sex'\n",
    "print(\"Unikalne wartości sex w X_train:\", len(X_train['sex']\n",
    "                                              .unique()))\n",
    "print(\"Unikalne wartości sex w X_test:\", len(X_test['sex']\n",
    "                                             .unique()))"
   ]
  },
  {
   "cell_type": "markdown",
   "id": "367e369b-f392-41b7-91e1-c03606849cf9",
   "metadata": {},
   "source": [
    "**Zmienna cabin**: \n",
    "- Wysoka kardynalność: 151 w treningowym i 71 w testowym - co oznacza bardzo dużą liczbę różnych wartości. Taka zmienność może prowadzić do problemów w modelu (przeuczenie).\n",
    "\n",
    "**Zmienna CabinReduced**:\n",
    "- Po redukcji do pierwszej litery liczba unikalnych etykiet drastycznie spadła kolejno do 9 i 8.\n",
    "- Taka redukcja upraszcza model i ogranicza ryzyko, że w zbiorze testowym pojawi się nieznana wcześniej wartość.\n",
    "- Pomimo uproszczenia zachowana zostaje część informacji (np. o lokalizacji kabiny na statku).\n",
    "\n",
    "**Zmienna sex**: \n",
    "- Jest idealnie zbalansowana i prosta – tylko dwie unikalne etykiety (male, female) w obu zbiorach.\n",
    "- Takie zmienne są bardzo łatwe do zakodowania i nie powodują problemów z generalizacją."
   ]
  },
  {
   "cell_type": "markdown",
   "id": "d9660e4c-9b1f-4207-a37c-1a01f11df35d",
   "metadata": {},
   "source": [
    "Różnica między liczbą etykiet przed i po redukcji oraz mapowaniu polega na zmniejszeniu kardynalności cech kategorycznych, co wpływa na prostotę, zrozumiałość oraz efektywność analizy danych i modelowania.\n",
    "\n",
    "- Przed redukcją:\n",
    "\n",
    "`X_train`: 151 unikalnych etykiet\n",
    "\n",
    "`X_test`: 71 unikalnych etykiet\n",
    "\n",
    "- Po redukcji do CabinReduced:\n",
    "\n",
    "`X_train`: 9 unikalnych etykiet\n",
    "\n",
    "`X_test`: 8 unikalnych etykiet\n",
    "\n",
    "Różnica: zredukowano z 151 do 9 (w X_train), co oznacza spadek o ponad 94%\n",
    "\n",
    "- Po mapowaniu:\n",
    "\n",
    "`CabinReduced_map`: zawiera te same wartości co CabinReduced, ale zakodowane jako liczby całkowite. Liczba unikalnych etykiet nie uległa zmianie, zmieniła się tylko ich forma zapisu (np. 'C', 'B', 'D' → 1, 2, 3).\n",
    "\n",
    "`sex_map`: zamienia 'female' i 'male' na wartości liczbowe (np. 1 i 2), nie zmieniając liczby kategorii – nadal są to tylko 2 unikalne etykiety.\n",
    "\n",
    "`cabin_map`: również została zakodowana na liczby całkowite. Liczba etykiet pozostała taka sama jak przed kodowaniem (czyli bardzo wysoka) – nie wykonano redukcji, a jedynie przekształcono tekstowe etykiety kabin (np. 'C85', 'D36', 'B28') na liczby (np. 1, 2, 3). Kardynalność nadal pozostaje wysoka, dlatego CabinReduced jest preferowaną wersją do dalszych analiz."
   ]
  },
  {
   "cell_type": "markdown",
   "id": "749dff22-e7be-47ca-a2be-3d0322ebcbb3",
   "metadata": {},
   "source": [
    "Tak, cały dotychczasowy proces ma istotny wpływ na końcowy wynik predykcji i jakość modelu.\n",
    "\n",
    "* **Redukcja kardynalności cech** - Redukcja liczby kategorii (np. do samej litery kabiny) upraszcza model i zmniejsza szum w danych, co zwykle poprawia stabilność i jakość predykcji.\n",
    "* **Mapowanie (kodowanie) zmiennych kategorycznych** - Zamiana etykiet tekstowych na liczby całkowite umożliwia ich użycie w algorytmach uczenia maszynowego, które wymagają danych liczbowych. Jest niezbędnym krokiem przygotowującym dane do modelowania.\n",
    "* **Zastępowanie wartości brakujących** - Umożliwia dalsze przetwarzanie danych i trenowanie modelu bez błędów technicznych; choć zastąpienie zerem nie zawsze jest idealne, to pozwala zachować spójność i kompletność zbiorów danych.\n",
    "* **Podział na zbiory treningowe i testowe** - Zapewnia możliwość oceny jakości modelu na danych niewidzianych wcześniej, co pozwala sprawdzić, czy model dobrze się generalizuje, a nie tylko uczy „na pamięć”."
   ]
  }
 ],
 "metadata": {
  "kernelspec": {
   "display_name": "Python 3 (ipykernel)",
   "language": "python",
   "name": "python3"
  },
  "language_info": {
   "codemirror_mode": {
    "name": "ipython",
    "version": 3
   },
   "file_extension": ".py",
   "mimetype": "text/x-python",
   "name": "python",
   "nbconvert_exporter": "python",
   "pygments_lexer": "ipython3",
   "version": "3.11.8"
  }
 },
 "nbformat": 4,
 "nbformat_minor": 5
}
